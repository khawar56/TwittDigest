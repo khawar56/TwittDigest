{
  "cells": [
    {
      "cell_type": "markdown",
      "source": [
        "# Tweepy"
      ],
      "metadata": {
        "id": "Yl417QuaMOPH"
      },
      "id": "Yl417QuaMOPH"
    },
    {
      "cell_type": "code",
      "source": [
        "!pip install tweepy\n",
        "!pip install pyspark py4j"
      ],
      "metadata": {
        "id": "ef15q8QvkO06",
        "colab": {
          "base_uri": "https://localhost:8080/"
        },
        "outputId": "d7e4c7a8-6c0b-4e15-c20b-493e24d203e7"
      },
      "id": "ef15q8QvkO06",
      "execution_count": null,
      "outputs": [
        {
          "output_type": "stream",
          "name": "stdout",
          "text": [
            "Looking in indexes: https://pypi.org/simple, https://us-python.pkg.dev/colab-wheels/public/simple/\n",
            "Requirement already satisfied: tweepy in /usr/local/lib/python3.10/dist-packages (4.13.0)\n",
            "Requirement already satisfied: oauthlib<4,>=3.2.0 in /usr/local/lib/python3.10/dist-packages (from tweepy) (3.2.2)\n",
            "Requirement already satisfied: requests<3,>=2.27.0 in /usr/local/lib/python3.10/dist-packages (from tweepy) (2.27.1)\n",
            "Requirement already satisfied: requests-oauthlib<2,>=1.2.0 in /usr/local/lib/python3.10/dist-packages (from tweepy) (1.3.1)\n",
            "Requirement already satisfied: urllib3<1.27,>=1.21.1 in /usr/local/lib/python3.10/dist-packages (from requests<3,>=2.27.0->tweepy) (1.26.15)\n",
            "Requirement already satisfied: certifi>=2017.4.17 in /usr/local/lib/python3.10/dist-packages (from requests<3,>=2.27.0->tweepy) (2022.12.7)\n",
            "Requirement already satisfied: charset-normalizer~=2.0.0 in /usr/local/lib/python3.10/dist-packages (from requests<3,>=2.27.0->tweepy) (2.0.12)\n",
            "Requirement already satisfied: idna<4,>=2.5 in /usr/local/lib/python3.10/dist-packages (from requests<3,>=2.27.0->tweepy) (3.4)\n",
            "Looking in indexes: https://pypi.org/simple, https://us-python.pkg.dev/colab-wheels/public/simple/\n",
            "Collecting pyspark\n",
            "  Downloading pyspark-3.4.0.tar.gz (310.8 MB)\n",
            "\u001b[2K     \u001b[90m━━━━━━━━━━━━━━━━━━━━━━━━━━━━━━━━━━━━━━━\u001b[0m \u001b[32m310.8/310.8 MB\u001b[0m \u001b[31m3.5 MB/s\u001b[0m eta \u001b[36m0:00:00\u001b[0m\n",
            "\u001b[?25h  Preparing metadata (setup.py) ... \u001b[?25l\u001b[?25hdone\n",
            "Requirement already satisfied: py4j in /usr/local/lib/python3.10/dist-packages (0.10.9.7)\n",
            "Building wheels for collected packages: pyspark\n",
            "  Building wheel for pyspark (setup.py) ... \u001b[?25l\u001b[?25hdone\n",
            "  Created wheel for pyspark: filename=pyspark-3.4.0-py2.py3-none-any.whl size=311317130 sha256=853f1f05275de93b3e916c02c1b121bb0aa199ad7b3720a79e7c7cc0c37d6f23\n",
            "  Stored in directory: /root/.cache/pip/wheels/7b/1b/4b/3363a1d04368e7ff0d408e57ff57966fcdf00583774e761327\n",
            "Successfully built pyspark\n",
            "Installing collected packages: pyspark\n",
            "Successfully installed pyspark-3.4.0\n"
          ]
        }
      ]
    },
    {
      "cell_type": "code",
      "source": [
        "#imports\n",
        "import json\n",
        "import tweepy as tw\n",
        "from datetime import datetime, timedelta\n",
        "import pandas as pd\n",
        "import pytz\n",
        "import pandas as pd\n",
        "import re\n",
        "from pyspark import SparkContext, SparkConf\n",
        "import csv"
      ],
      "metadata": {
        "id": "tVudZ4FZm4VP"
      },
      "id": "tVudZ4FZm4VP",
      "execution_count": null,
      "outputs": []
    },
    {
      "cell_type": "code",
      "source": [
        "consumer_key = ''\n",
        "consumer_secret = ''\n",
        "access_token = ''\n",
        "access_token_secret = ''\n",
        "\n",
        "auth = tw.OAuthHandler(consumer_key, consumer_secret)\n",
        "auth.set_access_token(access_token, access_token_secret)\n",
        "\n",
        "api = tw.API(auth,wait_on_rate_limit=True)"
      ],
      "metadata": {
        "id": "pzIw-WJkMSDV",
        "colab": {
          "base_uri": "https://localhost:8080/",
          "height": 236
        },
        "outputId": "390cbd49-e594-42b4-ad96-42b84a9d83a6"
      },
      "id": "pzIw-WJkMSDV",
      "execution_count": null,
      "outputs": [
        {
          "output_type": "error",
          "ename": "NameError",
          "evalue": "ignored",
          "traceback": [
            "\u001b[0;31m---------------------------------------------------------------------------\u001b[0m",
            "\u001b[0;31mNameError\u001b[0m                                 Traceback (most recent call last)",
            "\u001b[0;32m<ipython-input-2-09cd6683a467>\u001b[0m in \u001b[0;36m<cell line: 6>\u001b[0;34m()\u001b[0m\n\u001b[1;32m      4\u001b[0m \u001b[0maccess_token_secret\u001b[0m \u001b[0;34m=\u001b[0m \u001b[0;34m'k7ekKaT76nM46yc5rspjSWdwFAUSK32ackgI25VHYc3du'\u001b[0m\u001b[0;34m\u001b[0m\u001b[0;34m\u001b[0m\u001b[0m\n\u001b[1;32m      5\u001b[0m \u001b[0;34m\u001b[0m\u001b[0m\n\u001b[0;32m----> 6\u001b[0;31m \u001b[0mauth\u001b[0m \u001b[0;34m=\u001b[0m \u001b[0mtw\u001b[0m\u001b[0;34m.\u001b[0m\u001b[0mOAuthHandler\u001b[0m\u001b[0;34m(\u001b[0m\u001b[0mconsumer_key\u001b[0m\u001b[0;34m,\u001b[0m \u001b[0mconsumer_secret\u001b[0m\u001b[0;34m)\u001b[0m\u001b[0;34m\u001b[0m\u001b[0;34m\u001b[0m\u001b[0m\n\u001b[0m\u001b[1;32m      7\u001b[0m \u001b[0mauth\u001b[0m\u001b[0;34m.\u001b[0m\u001b[0mset_access_token\u001b[0m\u001b[0;34m(\u001b[0m\u001b[0maccess_token\u001b[0m\u001b[0;34m,\u001b[0m \u001b[0maccess_token_secret\u001b[0m\u001b[0;34m)\u001b[0m\u001b[0;34m\u001b[0m\u001b[0;34m\u001b[0m\u001b[0m\n\u001b[1;32m      8\u001b[0m \u001b[0;34m\u001b[0m\u001b[0m\n",
            "\u001b[0;31mNameError\u001b[0m: name 'tw' is not defined"
          ]
        }
      ]
    },
    {
      "cell_type": "markdown",
      "source": [
        "# Get Followers List"
      ],
      "metadata": {
        "id": "bY5-l83XQYts"
      },
      "id": "bY5-l83XQYts"
    },
    {
      "cell_type": "code",
      "source": [
        "#get user ID from screen name\n",
        "screen_name = \"\"\n",
        "user = api.get_user(screen_name = screen_name).id_str\n",
        "\n",
        "#Get list of accounts the user is following\n",
        "following_list = []\n",
        "try:\n",
        "  for page in tw.Cursor(api.get_friend_ids, user_id=user).pages():\n",
        "    following_list.extend(page)\n",
        "except tw.errors.TweepyException:\n",
        "  print(\"error\")\n",
        "len(following_list)"
      ],
      "metadata": {
        "colab": {
          "base_uri": "https://localhost:8080/"
        },
        "id": "_j56p0MfQcUH",
        "outputId": "e76117e0-acf9-4095-9c3d-c9dc7bb9dd79"
      },
      "id": "_j56p0MfQcUH",
      "execution_count": null,
      "outputs": [
        {
          "output_type": "execute_result",
          "data": {
            "text/plain": [
              "145"
            ]
          },
          "metadata": {},
          "execution_count": 11
        }
      ]
    },
    {
      "cell_type": "markdown",
      "source": [
        "# Fetch tweets from following list\n",
        "## trying out - not part of pipeline"
      ],
      "metadata": {
        "id": "2qgZ7BrqY1FC"
      },
      "id": "2qgZ7BrqY1FC"
    },
    {
      "cell_type": "markdown",
      "source": [
        "Fetch tweets from one account"
      ],
      "metadata": {
        "id": "4MIvBdzRY7pP"
      },
      "id": "4MIvBdzRY7pP"
    },
    {
      "cell_type": "code",
      "source": [
        "##how to get user id from a username\n",
        "user_id = api.get_user(screen_name = screen_name).id_str\n",
        "user_id"
      ],
      "metadata": {
        "id": "yfTyDHNpwQf5"
      },
      "id": "yfTyDHNpwQf5",
      "execution_count": null,
      "outputs": []
    },
    {
      "cell_type": "code",
      "source": [
        "\n",
        "user = api.get_user(user_id='39125788')\n",
        "#user = api.get_user(user_id=following_list[0])\n",
        "user.screen_name"
      ],
      "metadata": {
        "colab": {
          "base_uri": "https://localhost:8080/",
          "height": 37
        },
        "id": "N6FlGlaZmVx-",
        "outputId": "1e121780-3bad-488d-fdc6-913c6b414705"
      },
      "id": "N6FlGlaZmVx-",
      "execution_count": null,
      "outputs": [
        {
          "output_type": "execute_result",
          "data": {
            "text/plain": [
              "'FABRICtestbed'"
            ],
            "application/vnd.google.colaboratory.intrinsic+json": {
              "type": "string"
            }
          },
          "metadata": {},
          "execution_count": 210
        }
      ]
    },
    {
      "cell_type": "code",
      "source": [
        "##trying on an individual account - not part of pipeline\n",
        "\n",
        "tz = pytz.timezone('US/Central')\n",
        "now = datetime.now(tz)\n",
        "yesterday = now - timedelta(days=1)\n",
        "tweets=[]\n",
        "all_tweets = []\n",
        "tweet_dict = {}\n",
        "user_id = following_list[1]\n",
        "\n",
        "for tweet in tw.Cursor(api.user_timeline, user_id=user_id, exclude_replies=True,tweet_mode='extended').items():\n",
        "\n",
        "    if tweet.created_at >= yesterday and tweet.lang==\"en\":\n",
        "      # tweets.append(tweet.full_text)\n",
        "      #print(tweet.full_text)\n",
        "      tweet_id = tweet.id_str\n",
        "      #name = tweet.user.name\n",
        "      tweet_dict['user_id']=user_id\n",
        "      tweet_dict['tweet_id']=tweet_id\n",
        "      tweet_dict['full_text']=tweet.full_text\n",
        "\n",
        "      replies_itterator = tw.Cursor(api.search_tweets, q='to:{}'.format(api.get_status(tweet_id).user.screen_name),\n",
        "                          since_id=tweet_id, tweet_mode='extended').items()\n",
        "      replies = []\n",
        "      for reply in replies_itterator:\n",
        "        if hasattr(reply, 'in_reply_to_status_id_str'):\n",
        "          if reply.in_reply_to_status_id_str == tweet_id:\n",
        "            replies.append(re.sub(r\"@\\w+\\s?\", \"\", reply.full_text))\n",
        "            #print(reply.full_text)\n",
        "\n",
        "      tweet_dict['replies']=replies\n",
        "\n",
        "    else:\n",
        "      break\n",
        "\n",
        "    all_tweets.append(tweet_dict)"
      ],
      "metadata": {
        "id": "I1mz6GlouJJK"
      },
      "id": "I1mz6GlouJJK",
      "execution_count": null,
      "outputs": []
    },
    {
      "cell_type": "code",
      "source": [
        "len(all_tweets)"
      ],
      "metadata": {
        "colab": {
          "base_uri": "https://localhost:8080/"
        },
        "id": "lqD4e0z2YV3A",
        "outputId": "0d826dae-a84d-4439-d5ce-5e616c39e6e7"
      },
      "id": "lqD4e0z2YV3A",
      "execution_count": null,
      "outputs": [
        {
          "output_type": "execute_result",
          "data": {
            "text/plain": [
              "6"
            ]
          },
          "metadata": {},
          "execution_count": 8
        }
      ]
    },
    {
      "cell_type": "code",
      "source": [
        "all_tweets"
      ],
      "metadata": {
        "id": "26nHeThr6uNu"
      },
      "id": "26nHeThr6uNu",
      "execution_count": null,
      "outputs": []
    },
    {
      "cell_type": "code",
      "source": [
        "with open(\"tweets.json\", \"w\") as f:\n",
        "    json.dump(all_tweets, f)"
      ],
      "metadata": {
        "id": "UWTB7nUROue7"
      },
      "id": "UWTB7nUROue7",
      "execution_count": null,
      "outputs": []
    },
    {
      "cell_type": "code",
      "source": [
        "all_tweets[0]['replies'][0]"
      ],
      "metadata": {
        "colab": {
          "base_uri": "https://localhost:8080/",
          "height": 37
        },
        "id": "6gcJtLiRPSUJ",
        "outputId": "df1fcbaa-523a-4d0a-9e94-b422a2b98944"
      },
      "id": "6gcJtLiRPSUJ",
      "execution_count": null,
      "outputs": [
        {
          "output_type": "execute_result",
          "data": {
            "text/plain": [
              "'@OSINT_Insider @TwitterBlue Upto 7 days!'"
            ],
            "application/vnd.google.colaboratory.intrinsic+json": {
              "type": "string"
            }
          },
          "metadata": {},
          "execution_count": 143
        }
      ]
    },
    {
      "cell_type": "code",
      "source": [
        "for user in following_list[0:4]:\n",
        "  user = api.get_user(user_id=user)\n",
        "  print(user.screen_name)"
      ],
      "metadata": {
        "colab": {
          "base_uri": "https://localhost:8080/"
        },
        "id": "urroGIhHfnw3",
        "outputId": "9ec08342-6e92-438b-e093-34ad98e251b3"
      },
      "id": "urroGIhHfnw3",
      "execution_count": null,
      "outputs": [
        {
          "output_type": "stream",
          "name": "stdout",
          "text": [
            "MaryFloraHunter\n",
            "emollick\n",
            "FABRICtestbed\n",
            "networkservice\n"
          ]
        }
      ]
    },
    {
      "cell_type": "markdown",
      "source": [
        "# Fetch tweets recursively"
      ],
      "metadata": {
        "id": "TIv-MOg6Y_qJ"
      },
      "id": "TIv-MOg6Y_qJ"
    },
    {
      "cell_type": "code",
      "source": [
        "# test removing @ mentions\n",
        "\n",
        "text = \"@OSINT_Insider @TwitterBlue Upto 7 days!\"\n",
        "re.sub(r\"@\\w+\\s?\", \"\", text)"
      ],
      "metadata": {
        "id": "VCDjVHbNY7D4",
        "colab": {
          "base_uri": "https://localhost:8080/",
          "height": 35
        },
        "outputId": "0eabc29a-34a6-4e48-d2d9-51dc13477a86"
      },
      "id": "VCDjVHbNY7D4",
      "execution_count": null,
      "outputs": [
        {
          "output_type": "execute_result",
          "data": {
            "text/plain": [
              "'Upto 7 days!'"
            ],
            "application/vnd.google.colaboratory.intrinsic+json": {
              "type": "string"
            }
          },
          "metadata": {},
          "execution_count": 10
        }
      ]
    },
    {
      "cell_type": "code",
      "source": [
        "#recurrsively fetches tweets for the following accounts and their replies posted in last 24 hours\n",
        "\n",
        "tz = pytz.timezone('US/Central')\n",
        "now = datetime.now(tz)\n",
        "yesterday = now - timedelta(days=1)\n",
        "tweets=[]\n",
        "all_tweets = []\n",
        "\n",
        "##running on 1 account for demo\n",
        "for user in following_list[1:2]:\n",
        "  print(\"getting tweet for following user \",api.get_user(user_id=user).screen_name)\n",
        "  for tweet in tw.Cursor(api.user_timeline, user_id=user, exclude_replies=True,tweet_mode='extended').items():\n",
        "      tweet_dict = {}\n",
        "      if tweet.created_at >= yesterday and tweet.lang==\"en\":\n",
        "        # tweets.append(tweet.full_text)\n",
        "        #print(tweet.full_text)\n",
        "        tweet_id = tweet.id_str\n",
        "        #name = tweet.user.name\n",
        "        tweet_dict['user_id']=user_id\n",
        "        tweet_dict['user_name']=tweet.user.screen_name\n",
        "        tweet_dict['tweet_id']=tweet_id\n",
        "        tweet_dict['full_text']=tweet.full_text\n",
        "\n",
        "        replies_itterator = tw.Cursor(api.search_tweets, q='to:{}'.format(api.get_status(tweet_id).user.screen_name),\n",
        "                            since_id=tweet_id, tweet_mode='extended').items()\n",
        "        replies = []\n",
        "        for reply in replies_itterator:\n",
        "          if hasattr(reply, 'in_reply_to_status_id_str'):\n",
        "            if reply.in_reply_to_status_id_str == tweet_id:\n",
        "              if reply.lang == \"en\":\n",
        "                replies.append(re.sub(r\"@\\w+\\s?\", \"\", reply.full_text))\n",
        "              #print(reply.full_text)\n",
        "\n",
        "        tweet_dict['replies']=replies\n",
        "        all_tweets.append(tweet_dict)\n",
        "      else:\n",
        "        break"
      ],
      "metadata": {
        "id": "3RCtqM2Lu_gS",
        "colab": {
          "base_uri": "https://localhost:8080/"
        },
        "outputId": "2eb2ba49-f39f-4725-e9d1-09ca0e17a158"
      },
      "id": "3RCtqM2Lu_gS",
      "execution_count": null,
      "outputs": [
        {
          "output_type": "stream",
          "name": "stdout",
          "text": [
            "getting tweet for following user  yoursunny\n"
          ]
        }
      ]
    },
    {
      "cell_type": "code",
      "source": [
        "all_tweets"
      ],
      "metadata": {
        "colab": {
          "base_uri": "https://localhost:8080/"
        },
        "id": "BELNddEW8m0K",
        "outputId": "900259e3-8fef-4545-abc3-6c6c85701399"
      },
      "id": "BELNddEW8m0K",
      "execution_count": null,
      "outputs": [
        {
          "output_type": "execute_result",
          "data": {
            "text/plain": [
              "[{'user_id': 22088130,\n",
              "  'user_name': 'yoursunny',\n",
              "  'tweet_id': '1655907894603268099',\n",
              "  'full_text': 'Car returned. Total distance is 1213 miles. (@ Nextcar Gaithersburg South in Gaithersburg, MD) https://t.co/3hBzg8pvFq'},\n",
              " {'user_id': 22088130,\n",
              "  'user_name': 'yoursunny',\n",
              "  'tweet_id': '1655896726744494082',\n",
              "  'full_text': 'Look for evidence of a dry-land plane crash in 1957. (@ Little Bennett Regional Park - @montgomeryparks in Clarksburg, MD) https://t.co/3iDolTAlVy https://t.co/EHmvlOjw5P'},\n",
              " {'user_id': 22088130,\n",
              "  'user_name': 'yoursunny',\n",
              "  'tweet_id': '1655695863878959105',\n",
              "  'full_text': 'Open! (@ Cronise Market Place in Boonsboro, MD) https://t.co/VgIUWkgBNX https://t.co/lJID0c8JfE'},\n",
              " {'user_id': 22088130,\n",
              "  'user_name': 'yoursunny',\n",
              "  'tweet_id': '1655687697862729728',\n",
              "  'full_text': \"Closed! (@ Litton's Produce and Berries in Fairplay, MD) https://t.co/3fCqPio3jR\"},\n",
              " {'user_id': 22088130,\n",
              "  'user_name': 'yoursunny',\n",
              "  'tweet_id': '1655677298782109702',\n",
              "  'full_text': \"🦀 (@ Buddy Lou's Restaurant in Hancock, MD) https://t.co/61oVxFmPN3 https://t.co/Lgxz6F85rx\"}]"
            ]
          },
          "metadata": {},
          "execution_count": 27
        }
      ]
    },
    {
      "cell_type": "code",
      "source": [
        "from google.colab import files\n",
        "files.download('/content/tweets.json')"
      ],
      "metadata": {
        "colab": {
          "base_uri": "https://localhost:8080/",
          "height": 17
        },
        "id": "RgdJfYtt27tA",
        "outputId": "ac4d0a24-a2e1-4ec4-d760-98e2f986965e"
      },
      "id": "RgdJfYtt27tA",
      "execution_count": null,
      "outputs": [
        {
          "output_type": "display_data",
          "data": {
            "text/plain": [
              "<IPython.core.display.Javascript object>"
            ],
            "application/javascript": [
              "\n",
              "    async function download(id, filename, size) {\n",
              "      if (!google.colab.kernel.accessAllowed) {\n",
              "        return;\n",
              "      }\n",
              "      const div = document.createElement('div');\n",
              "      const label = document.createElement('label');\n",
              "      label.textContent = `Downloading \"${filename}\": `;\n",
              "      div.appendChild(label);\n",
              "      const progress = document.createElement('progress');\n",
              "      progress.max = size;\n",
              "      div.appendChild(progress);\n",
              "      document.body.appendChild(div);\n",
              "\n",
              "      const buffers = [];\n",
              "      let downloaded = 0;\n",
              "\n",
              "      const channel = await google.colab.kernel.comms.open(id);\n",
              "      // Send a message to notify the kernel that we're ready.\n",
              "      channel.send({})\n",
              "\n",
              "      for await (const message of channel.messages) {\n",
              "        // Send a message to notify the kernel that we're ready.\n",
              "        channel.send({})\n",
              "        if (message.buffers) {\n",
              "          for (const buffer of message.buffers) {\n",
              "            buffers.push(buffer);\n",
              "            downloaded += buffer.byteLength;\n",
              "            progress.value = downloaded;\n",
              "          }\n",
              "        }\n",
              "      }\n",
              "      const blob = new Blob(buffers, {type: 'application/binary'});\n",
              "      const a = document.createElement('a');\n",
              "      a.href = window.URL.createObjectURL(blob);\n",
              "      a.download = filename;\n",
              "      div.appendChild(a);\n",
              "      a.click();\n",
              "      div.remove();\n",
              "    }\n",
              "  "
            ]
          },
          "metadata": {}
        },
        {
          "output_type": "display_data",
          "data": {
            "text/plain": [
              "<IPython.core.display.Javascript object>"
            ],
            "application/javascript": [
              "download(\"download_9f7679af-b349-44b9-b3d2-1a02588ed337\", \"tweets.json\", 195765)"
            ]
          },
          "metadata": {}
        }
      ]
    },
    {
      "cell_type": "code",
      "source": [
        "with open(\"tweets.json\", \"w\") as f:\n",
        "    json.dump(all_tweets, f)"
      ],
      "metadata": {
        "id": "PCm90Y4x9nMM"
      },
      "id": "PCm90Y4x9nMM",
      "execution_count": null,
      "outputs": []
    },
    {
      "cell_type": "code",
      "source": [
        "with open(\"all_tweets.json\", \"w\") as f:\n",
        "    json.dump(all_tweets, f)\n",
        "\n",
        "files.download('/content/all_tweets.json')"
      ],
      "metadata": {
        "colab": {
          "base_uri": "https://localhost:8080/",
          "height": 17
        },
        "id": "2afuIcwE3GHn",
        "outputId": "bd22e12c-f703-4817-aff7-721ba99b9126"
      },
      "id": "2afuIcwE3GHn",
      "execution_count": null,
      "outputs": [
        {
          "output_type": "display_data",
          "data": {
            "text/plain": [
              "<IPython.core.display.Javascript object>"
            ],
            "application/javascript": [
              "\n",
              "    async function download(id, filename, size) {\n",
              "      if (!google.colab.kernel.accessAllowed) {\n",
              "        return;\n",
              "      }\n",
              "      const div = document.createElement('div');\n",
              "      const label = document.createElement('label');\n",
              "      label.textContent = `Downloading \"${filename}\": `;\n",
              "      div.appendChild(label);\n",
              "      const progress = document.createElement('progress');\n",
              "      progress.max = size;\n",
              "      div.appendChild(progress);\n",
              "      document.body.appendChild(div);\n",
              "\n",
              "      const buffers = [];\n",
              "      let downloaded = 0;\n",
              "\n",
              "      const channel = await google.colab.kernel.comms.open(id);\n",
              "      // Send a message to notify the kernel that we're ready.\n",
              "      channel.send({})\n",
              "\n",
              "      for await (const message of channel.messages) {\n",
              "        // Send a message to notify the kernel that we're ready.\n",
              "        channel.send({})\n",
              "        if (message.buffers) {\n",
              "          for (const buffer of message.buffers) {\n",
              "            buffers.push(buffer);\n",
              "            downloaded += buffer.byteLength;\n",
              "            progress.value = downloaded;\n",
              "          }\n",
              "        }\n",
              "      }\n",
              "      const blob = new Blob(buffers, {type: 'application/binary'});\n",
              "      const a = document.createElement('a');\n",
              "      a.href = window.URL.createObjectURL(blob);\n",
              "      a.download = filename;\n",
              "      div.appendChild(a);\n",
              "      a.click();\n",
              "      div.remove();\n",
              "    }\n",
              "  "
            ]
          },
          "metadata": {}
        },
        {
          "output_type": "display_data",
          "data": {
            "text/plain": [
              "<IPython.core.display.Javascript object>"
            ],
            "application/javascript": [
              "download(\"download_3a270cee-08af-4dd1-80cb-f48bad11af8a\", \"all_tweets.json\", 195765)"
            ]
          },
          "metadata": {}
        }
      ]
    },
    {
      "cell_type": "markdown",
      "source": [
        "# Tweet Classification\n",
        "#playing around with models - not the pipeline"
      ],
      "metadata": {
        "id": "G8fRhrjg9npy"
      },
      "id": "G8fRhrjg9npy"
    },
    {
      "cell_type": "code",
      "source": [
        "!pip install transformers\n",
        "import torch\n",
        "from transformers import AutoTokenizer, AutoModelForSequenceClassification"
      ],
      "metadata": {
        "colab": {
          "base_uri": "https://localhost:8080/"
        },
        "id": "5UQSGDclD84C",
        "outputId": "ce221aca-99c5-41c4-aad6-e4b39a04393b"
      },
      "id": "5UQSGDclD84C",
      "execution_count": null,
      "outputs": [
        {
          "output_type": "stream",
          "name": "stdout",
          "text": [
            "Looking in indexes: https://pypi.org/simple, https://us-python.pkg.dev/colab-wheels/public/simple/\n",
            "Collecting transformers\n",
            "  Downloading transformers-4.28.1-py3-none-any.whl (7.0 MB)\n",
            "\u001b[2K     \u001b[90m━━━━━━━━━━━━━━━━━━━━━━━━━━━━━━━━━━━━━━━━\u001b[0m \u001b[32m7.0/7.0 MB\u001b[0m \u001b[31m30.6 MB/s\u001b[0m eta \u001b[36m0:00:00\u001b[0m\n",
            "\u001b[?25hRequirement already satisfied: filelock in /usr/local/lib/python3.10/dist-packages (from transformers) (3.12.0)\n",
            "Collecting huggingface-hub<1.0,>=0.11.0 (from transformers)\n",
            "  Downloading huggingface_hub-0.14.1-py3-none-any.whl (224 kB)\n",
            "\u001b[2K     \u001b[90m━━━━━━━━━━━━━━━━━━━━━━━━━━━━━━━━━━━━━━\u001b[0m \u001b[32m224.5/224.5 kB\u001b[0m \u001b[31m19.5 MB/s\u001b[0m eta \u001b[36m0:00:00\u001b[0m\n",
            "\u001b[?25hRequirement already satisfied: numpy>=1.17 in /usr/local/lib/python3.10/dist-packages (from transformers) (1.22.4)\n",
            "Requirement already satisfied: packaging>=20.0 in /usr/local/lib/python3.10/dist-packages (from transformers) (23.1)\n",
            "Requirement already satisfied: pyyaml>=5.1 in /usr/local/lib/python3.10/dist-packages (from transformers) (6.0)\n",
            "Requirement already satisfied: regex!=2019.12.17 in /usr/local/lib/python3.10/dist-packages (from transformers) (2022.10.31)\n",
            "Requirement already satisfied: requests in /usr/local/lib/python3.10/dist-packages (from transformers) (2.27.1)\n",
            "Collecting tokenizers!=0.11.3,<0.14,>=0.11.1 (from transformers)\n",
            "  Downloading tokenizers-0.13.3-cp310-cp310-manylinux_2_17_x86_64.manylinux2014_x86_64.whl (7.8 MB)\n",
            "\u001b[2K     \u001b[90m━━━━━━━━━━━━━━━━━━━━━━━━━━━━━━━━━━━━━━━━\u001b[0m \u001b[32m7.8/7.8 MB\u001b[0m \u001b[31m27.8 MB/s\u001b[0m eta \u001b[36m0:00:00\u001b[0m\n",
            "\u001b[?25hRequirement already satisfied: tqdm>=4.27 in /usr/local/lib/python3.10/dist-packages (from transformers) (4.65.0)\n",
            "Requirement already satisfied: fsspec in /usr/local/lib/python3.10/dist-packages (from huggingface-hub<1.0,>=0.11.0->transformers) (2023.4.0)\n",
            "Requirement already satisfied: typing-extensions>=3.7.4.3 in /usr/local/lib/python3.10/dist-packages (from huggingface-hub<1.0,>=0.11.0->transformers) (4.5.0)\n",
            "Requirement already satisfied: urllib3<1.27,>=1.21.1 in /usr/local/lib/python3.10/dist-packages (from requests->transformers) (1.26.15)\n",
            "Requirement already satisfied: certifi>=2017.4.17 in /usr/local/lib/python3.10/dist-packages (from requests->transformers) (2022.12.7)\n",
            "Requirement already satisfied: charset-normalizer~=2.0.0 in /usr/local/lib/python3.10/dist-packages (from requests->transformers) (2.0.12)\n",
            "Requirement already satisfied: idna<4,>=2.5 in /usr/local/lib/python3.10/dist-packages (from requests->transformers) (3.4)\n",
            "Installing collected packages: tokenizers, huggingface-hub, transformers\n",
            "Successfully installed huggingface-hub-0.14.1 tokenizers-0.13.3 transformers-4.28.1\n"
          ]
        }
      ]
    },
    {
      "cell_type": "code",
      "source": [
        "model_name = 'textattack/bert-base-uncased-AG-news'\n",
        "tokenizer = AutoTokenizer.from_pretrained(model_name)\n",
        "model = AutoModelForSequenceClassification.from_pretrained(model_name)"
      ],
      "metadata": {
        "id": "Gu0vGCymQOu2",
        "colab": {
          "base_uri": "https://localhost:8080/",
          "height": 177,
          "referenced_widgets": [
            "d338360cbf474c91a24fcf110b2b5cbb",
            "930f093d212c456982a68311fabbaede",
            "42a0167447784e82a63f603f28bc53f7",
            "77ee4424dbb04dfd80e4db58158bb57b",
            "657d98c1e7a3474588b842561f728950",
            "bfd88a72b253408a8981dc4ea5917639",
            "0132690f90934a0184d98ad07b6815a0",
            "0e466eabab52488a83fc1c831c048e01",
            "3946035a93794571aec9849951c2d367",
            "ef07a6be63b54e4598bd17eab0b7ea92",
            "66342b9fe2904aeea5ebdde9fb32232b",
            "cd6df829bb4a4f7ab6af629cbb7c8acf",
            "82ee075ed4b44e98a1138eb4b991412e",
            "7fa4f069e9e14050b501097dbabf79b5",
            "1344e6c1100a427aad296405a3e78173",
            "0bf89b9df41c48d2b4c17a87ad574ebd",
            "101a87533686488baf30f891f4eab125",
            "7f28ad995ed84a17baf4938c9d2be95f",
            "0e79105f734844338b5955e62afc35a9",
            "0b314deba0194554b06f67df7fcd519e",
            "d9a7af348a6b45479bb9e5edeba1e65b",
            "5a67b66b660d426fbca7adf612849275",
            "96a76a00efcf4af7bab0046e6ee11b71",
            "9294a076ab724f91b8328b49c88dae4a",
            "55f9a9ff1334412d945a578c14c0ad31",
            "d7a7266646194806b611e4410ff5179f",
            "233dca93b0814d968e7319eda9e22535",
            "844834b780054d88bd6c6646a293a77f",
            "9fabeb36b10c4f65b81fb21ee8171a09",
            "6e373a5bd585415e827da585ba1a6965",
            "95aa56dce30f4dfe8a13c80c1e7323cc",
            "06d2737544304eda989bea25d73f63cf",
            "e411b93828534d408d2b46c88c67e9f7",
            "55e874830fb0418198650400e1854cc9",
            "1d95985071f94704876b7e44c759d9c7",
            "d7cbc1bdca19459f832ec7b898f67ce7",
            "bf3891e9298c4aa7914b38d27c1163ad",
            "f9bff67690e0474988ebbedeaf91a164",
            "17278a14318f4e35aaeb736ebcff52be",
            "2020f8da566c4fb1a5ec47dbc5291d10",
            "56f46396334e4e1caf8fa315b37adc3f",
            "1177e56f093d4e72a904e536a80578da",
            "d5b1f800bddf46bfb94fdcdc63014034",
            "a3b0646ac86345b6ab4dcfd125834e8c",
            "123bf1ff086c4dcba59f81eb5f721294",
            "f43c3bad7d834b2085747bb7e9d68f23",
            "08933328444d478f9d44f6114f9a67bc",
            "1867fe691cbc43cfa0e856236abff207",
            "899b6e3597dd461f86696267e43995ac",
            "891e00aa079e469bb062a513fc08554d",
            "89aeaa4d6ed24fd0bfde11d15ecf136e",
            "64a50af09a2a487a9d47c8b61c3d141c",
            "4612731108594424a6723dcfecbcecc6",
            "e2cf9e4dab674258a25043edb44ae3ee",
            "d3f5b45690f84159a7357cd4023002b3"
          ]
        },
        "outputId": "71d09b79-e6d2-4341-8c09-97c01eeb7416"
      },
      "id": "Gu0vGCymQOu2",
      "execution_count": null,
      "outputs": [
        {
          "output_type": "display_data",
          "data": {
            "text/plain": [
              "Downloading (…)okenizer_config.json:   0%|          | 0.00/48.0 [00:00<?, ?B/s]"
            ],
            "application/vnd.jupyter.widget-view+json": {
              "version_major": 2,
              "version_minor": 0,
              "model_id": "d338360cbf474c91a24fcf110b2b5cbb"
            }
          },
          "metadata": {}
        },
        {
          "output_type": "display_data",
          "data": {
            "text/plain": [
              "Downloading (…)lve/main/config.json:   0%|          | 0.00/706 [00:00<?, ?B/s]"
            ],
            "application/vnd.jupyter.widget-view+json": {
              "version_major": 2,
              "version_minor": 0,
              "model_id": "cd6df829bb4a4f7ab6af629cbb7c8acf"
            }
          },
          "metadata": {}
        },
        {
          "output_type": "display_data",
          "data": {
            "text/plain": [
              "Downloading (…)solve/main/vocab.txt:   0%|          | 0.00/232k [00:00<?, ?B/s]"
            ],
            "application/vnd.jupyter.widget-view+json": {
              "version_major": 2,
              "version_minor": 0,
              "model_id": "96a76a00efcf4af7bab0046e6ee11b71"
            }
          },
          "metadata": {}
        },
        {
          "output_type": "display_data",
          "data": {
            "text/plain": [
              "Downloading (…)cial_tokens_map.json:   0%|          | 0.00/112 [00:00<?, ?B/s]"
            ],
            "application/vnd.jupyter.widget-view+json": {
              "version_major": 2,
              "version_minor": 0,
              "model_id": "55e874830fb0418198650400e1854cc9"
            }
          },
          "metadata": {}
        },
        {
          "output_type": "display_data",
          "data": {
            "text/plain": [
              "Downloading pytorch_model.bin:   0%|          | 0.00/438M [00:00<?, ?B/s]"
            ],
            "application/vnd.jupyter.widget-view+json": {
              "version_major": 2,
              "version_minor": 0,
              "model_id": "123bf1ff086c4dcba59f81eb5f721294"
            }
          },
          "metadata": {}
        }
      ]
    },
    {
      "cell_type": "code",
      "source": [
        "# Classify text practise\n",
        "text = \"new iphone has been launched\"\n",
        "encoded_text = tokenizer.encode_plus(\n",
        "    text,\n",
        "    max_length=512,\n",
        "    truncation=True,\n",
        "    padding='max_length',\n",
        "    return_tensors='pt'\n",
        ")\n",
        "with torch.no_grad():\n",
        "    output = model(**encoded_text)\n",
        "\n",
        "predicted_class = torch.argmax(output.logits)\n",
        "labels = ['World', 'Sports', 'Business', 'Science/Technology']\n",
        "print(labels[predicted_class])"
      ],
      "metadata": {
        "colab": {
          "base_uri": "https://localhost:8080/"
        },
        "id": "jReQ0afXYUcu",
        "outputId": "7107152b-a8ac-458b-d214-15eebed6f110"
      },
      "id": "jReQ0afXYUcu",
      "execution_count": null,
      "outputs": [
        {
          "output_type": "stream",
          "name": "stdout",
          "text": [
            "Science/Technology\n"
          ]
        }
      ]
    },
    {
      "cell_type": "markdown",
      "source": [
        "# Sentiment Analysis\n",
        "#playing around with models - not the pipeline"
      ],
      "metadata": {
        "id": "7E2oVx0XFEYU"
      },
      "id": "7E2oVx0XFEYU"
    },
    {
      "cell_type": "code",
      "source": [
        "import pandas as pd\n",
        "import numpy as np\n",
        "from transformers import AutoTokenizer, AutoModelForSequenceClassification, Trainer\n",
        "!pip install nltk\n",
        "import nltk\n",
        "nltk.download('vader_lexicon')\n",
        "from nltk.sentiment.vader import SentimentIntensityAnalyzer\n",
        "analyzer = SentimentIntensityAnalyzer()"
      ],
      "metadata": {
        "id": "jlYQGhhEFagW",
        "colab": {
          "base_uri": "https://localhost:8080/"
        },
        "outputId": "386e2508-28da-446e-c100-9c17a8fe2256"
      },
      "id": "jlYQGhhEFagW",
      "execution_count": null,
      "outputs": [
        {
          "output_type": "stream",
          "name": "stdout",
          "text": [
            "Looking in indexes: https://pypi.org/simple, https://us-python.pkg.dev/colab-wheels/public/simple/\n",
            "Requirement already satisfied: nltk in /usr/local/lib/python3.9/dist-packages (3.8.1)\n",
            "Requirement already satisfied: regex>=2021.8.3 in /usr/local/lib/python3.9/dist-packages (from nltk) (2022.10.31)\n",
            "Requirement already satisfied: joblib in /usr/local/lib/python3.9/dist-packages (from nltk) (1.2.0)\n",
            "Requirement already satisfied: click in /usr/local/lib/python3.9/dist-packages (from nltk) (8.1.3)\n",
            "Requirement already satisfied: tqdm in /usr/local/lib/python3.9/dist-packages (from nltk) (4.65.0)\n"
          ]
        },
        {
          "output_type": "stream",
          "name": "stderr",
          "text": [
            "[nltk_data] Downloading package vader_lexicon to /root/nltk_data...\n",
            "[nltk_data]   Package vader_lexicon is already up-to-date!\n"
          ]
        }
      ]
    },
    {
      "cell_type": "code",
      "source": [
        "# Analyze the sentiment of a sentence\n",
        "\n",
        "entence = \"The movie was really good!\"\n",
        "scores = analyzer.polarity_scores(data[0]['full_text'])\n",
        "\n",
        "# Print the sentiment scores\n",
        "print(scores)"
      ],
      "metadata": {
        "colab": {
          "base_uri": "https://localhost:8080/"
        },
        "id": "bONXdmXBJCgg",
        "outputId": "2898f685-b0cb-4832-b9ec-f109f70cf0f4"
      },
      "id": "bONXdmXBJCgg",
      "execution_count": null,
      "outputs": [
        {
          "output_type": "stream",
          "name": "stdout",
          "text": [
            "{'neg': 0.0, 'neu': 0.936, 'pos': 0.064, 'compound': 0.4576}\n"
          ]
        }
      ]
    },
    {
      "cell_type": "markdown",
      "source": [
        "# Pipeline\n",
        "#Categorizing\n",
        "\n"
      ],
      "metadata": {
        "id": "VL_PorrZ4Fy-"
      },
      "id": "VL_PorrZ4Fy-"
    },
    {
      "cell_type": "code",
      "source": [
        "with open('/content/all_tweets.json', 'r') as f:\n",
        "    # Load the JSON data\n",
        "    data = json.load(f)"
      ],
      "metadata": {
        "id": "tXVbqOEPYjw3"
      },
      "id": "tXVbqOEPYjw3",
      "execution_count": null,
      "outputs": []
    },
    {
      "cell_type": "code",
      "source": [
        "data[0].keys()"
      ],
      "metadata": {
        "colab": {
          "base_uri": "https://localhost:8080/"
        },
        "id": "zWVUAXic4SIE",
        "outputId": "9792c985-3120-43cd-e9f0-ee96c67fe794"
      },
      "id": "zWVUAXic4SIE",
      "execution_count": null,
      "outputs": [
        {
          "output_type": "execute_result",
          "data": {
            "text/plain": [
              "dict_keys(['user_id', 'user_name', 'tweet_id', 'full_text', 'replies'])"
            ]
          },
          "metadata": {},
          "execution_count": 34
        }
      ]
    },
    {
      "cell_type": "code",
      "source": [
        "!pip install transformers\n",
        "import torch\n",
        "from transformers import AutoTokenizer, AutoModelForSequenceClassification\n",
        "model_name = 'textattack/bert-base-uncased-AG-news'\n",
        "tokenizer = AutoTokenizer.from_pretrained(model_name)\n",
        "model = AutoModelForSequenceClassification.from_pretrained(model_name)"
      ],
      "metadata": {
        "id": "D8uPrf4HOMCt",
        "colab": {
          "base_uri": "https://localhost:8080/"
        },
        "outputId": "60262b78-7f1b-4014-cb33-9b60dada872a"
      },
      "id": "D8uPrf4HOMCt",
      "execution_count": null,
      "outputs": [
        {
          "output_type": "stream",
          "name": "stdout",
          "text": [
            "Looking in indexes: https://pypi.org/simple, https://us-python.pkg.dev/colab-wheels/public/simple/\n",
            "Requirement already satisfied: transformers in /usr/local/lib/python3.10/dist-packages (4.22.1)\n",
            "Requirement already satisfied: filelock in /usr/local/lib/python3.10/dist-packages (from transformers) (3.12.0)\n",
            "Requirement already satisfied: huggingface-hub<1.0,>=0.9.0 in /usr/local/lib/python3.10/dist-packages (from transformers) (0.14.1)\n",
            "Requirement already satisfied: numpy>=1.17 in /usr/local/lib/python3.10/dist-packages (from transformers) (1.22.4)\n",
            "Requirement already satisfied: packaging>=20.0 in /usr/local/lib/python3.10/dist-packages (from transformers) (23.1)\n",
            "Requirement already satisfied: pyyaml>=5.1 in /usr/local/lib/python3.10/dist-packages (from transformers) (6.0)\n",
            "Requirement already satisfied: regex!=2019.12.17 in /usr/local/lib/python3.10/dist-packages (from transformers) (2022.10.31)\n",
            "Requirement already satisfied: requests in /usr/local/lib/python3.10/dist-packages (from transformers) (2.27.1)\n",
            "Requirement already satisfied: tokenizers!=0.11.3,<0.13,>=0.11.1 in /usr/local/lib/python3.10/dist-packages (from transformers) (0.12.1)\n",
            "Requirement already satisfied: tqdm>=4.27 in /usr/local/lib/python3.10/dist-packages (from transformers) (4.65.0)\n",
            "Requirement already satisfied: fsspec in /usr/local/lib/python3.10/dist-packages (from huggingface-hub<1.0,>=0.9.0->transformers) (2023.4.0)\n",
            "Requirement already satisfied: typing-extensions>=3.7.4.3 in /usr/local/lib/python3.10/dist-packages (from huggingface-hub<1.0,>=0.9.0->transformers) (4.5.0)\n",
            "Requirement already satisfied: urllib3<1.27,>=1.21.1 in /usr/local/lib/python3.10/dist-packages (from requests->transformers) (1.26.15)\n",
            "Requirement already satisfied: certifi>=2017.4.17 in /usr/local/lib/python3.10/dist-packages (from requests->transformers) (2022.12.7)\n",
            "Requirement already satisfied: charset-normalizer~=2.0.0 in /usr/local/lib/python3.10/dist-packages (from requests->transformers) (2.0.12)\n",
            "Requirement already satisfied: idna<4,>=2.5 in /usr/local/lib/python3.10/dist-packages (from requests->transformers) (3.4)\n"
          ]
        }
      ]
    },
    {
      "cell_type": "code",
      "source": [
        "categories = []\n",
        "#analysis = {\"categories\": [], \"sentiment\": []}\n",
        "labels = ['World', 'Sports', 'Business', 'Science/Technology']\n",
        "for tweet in data:\n",
        "  tweet_text = tweet['full_text']\n",
        "  encoded_text = tokenizer.encode_plus(\n",
        "    tweet_text,\n",
        "    max_length=512,\n",
        "    truncation=True,\n",
        "    padding='max_length',\n",
        "    return_tensors='pt')\n",
        "  with torch.no_grad():\n",
        "    output = model(**encoded_text)\n",
        "  predicted_class = torch.argmax(output.logits)\n",
        "  categories.append(labels[predicted_class])"
      ],
      "metadata": {
        "id": "pCEg8lS14SxG"
      },
      "id": "pCEg8lS14SxG",
      "execution_count": null,
      "outputs": []
    },
    {
      "cell_type": "code",
      "source": [
        "from pyspark.sql.functions import udf\n",
        "from pyspark.sql.types import StringType\n",
        "\n",
        "# Create a SparkSession object\n",
        "from pyspark.sql import SparkSession\n",
        "spark = SparkSession.builder.appName(\"TweetClassification\").getOrCreate()\n",
        "\n",
        "# Load the BERT tokenizer and model\n",
        "model_name = 'textattack/bert-base-uncased-AG-news'\n",
        "tokenizer = AutoTokenizer.from_pretrained(model_name)\n",
        "model = AutoModelForSequenceClassification.from_pretrained(model_name)\n",
        "\n",
        "# Define a function to classify a tweet\n",
        "def classify_tweet(tweet_text):\n",
        "    encoded_text = tokenizer.encode_plus(\n",
        "        tweet_text,\n",
        "        max_length=512,\n",
        "        truncation=True,\n",
        "        padding='max_length',\n",
        "        return_tensors='pt')\n",
        "    with torch.no_grad():\n",
        "        output = model(**encoded_text)\n",
        "    predicted_class = torch.argmax(output.logits)\n",
        "    categories = ['World', 'Sports', 'Business', 'Science/Technology']\n",
        "    return categories[predicted_class]\n",
        "\n",
        "classify_tweet_udf = udf(classify_tweet, StringType())\n",
        "\n",
        "# Read the JSON file into a Spark DataFrame\n",
        "json_file_path = \"/content/all_tweets.json\"\n",
        "df = spark.read.json(json_file_path)\n",
        "\n",
        "# Apply the UDF to classify the tweets\n",
        "df = df.withColumn(\"category\", classify_tweet_udf(df.full_text))\n",
        "df =\n",
        "# Show the resulting DataFrame\n",
        "category = [row.category for row in df.collect()]"
      ],
      "metadata": {
        "id": "hRNoCLNjDXEH"
      },
      "id": "hRNoCLNjDXEH",
      "execution_count": null,
      "outputs": []
    },
    {
      "cell_type": "code",
      "source": [
        "category"
      ],
      "metadata": {
        "id": "vbSH7_eEGqBG"
      },
      "id": "vbSH7_eEGqBG",
      "execution_count": null,
      "outputs": []
    },
    {
      "cell_type": "code",
      "source": [
        "full_text = []\n",
        "reps = []\n",
        "\n",
        "for tweet in data:\n",
        "  tweet_text = tweet['full_text']\n",
        "  full_text.append(tweet_text)\n",
        "  reps.append(tweet['replies'])"
      ],
      "metadata": {
        "id": "Dre_kXPO4gb-"
      },
      "id": "Dre_kXPO4gb-",
      "execution_count": null,
      "outputs": []
    },
    {
      "cell_type": "code",
      "source": [
        "import pandas as pd\n",
        "df = pd.DataFrame({'category': categories['Category'], 'tweet': full_text,'column3': reps})\n",
        "df.to_excel(\"category-tweets-replies.xlsx\", index=False)"
      ],
      "metadata": {
        "id": "UEjlAjnq4TtD"
      },
      "id": "UEjlAjnq4TtD",
      "execution_count": null,
      "outputs": []
    },
    {
      "cell_type": "code",
      "source": [
        "## dont run\n",
        "tweets = []\n",
        "for tweet in data:\n",
        "  tweet_text = tweet['full_text']\n",
        "  tweets.append(tweet_text)\n",
        "\n",
        "df = pd.DataFrame(tweets, columns=[\"tweet\"])\n",
        "df.to_excel(\"latest tweets.xlsx\", index=False)"
      ],
      "metadata": {
        "id": "2kOqsSxJQfU2"
      },
      "id": "2kOqsSxJQfU2",
      "execution_count": null,
      "outputs": []
    },
    {
      "cell_type": "code",
      "source": [
        "## dont run\n",
        "import pandas as pd\n",
        "df = pd.DataFrame(categories, columns=[\"Category\"])\n",
        "df.to_excel(\"latest categories.xlsx\", index=False)"
      ],
      "metadata": {
        "id": "GfKhyOCR6PBP"
      },
      "id": "GfKhyOCR6PBP",
      "execution_count": null,
      "outputs": []
    },
    {
      "cell_type": "code",
      "source": [
        "## dont run\n",
        "categories = pd.read_excel('/content/latest categories.xlsx', sheet_name='Sheet1')"
      ],
      "metadata": {
        "id": "tPXeQXpRBunK"
      },
      "id": "tPXeQXpRBunK",
      "execution_count": null,
      "outputs": []
    },
    {
      "cell_type": "code",
      "source": [
        "## dont run\n",
        "categories['Category']"
      ],
      "metadata": {
        "id": "jALmpAJZDpXd"
      },
      "id": "jALmpAJZDpXd",
      "execution_count": null,
      "outputs": []
    },
    {
      "cell_type": "code",
      "source": [
        "print(len(categories),len(full_text),len(reps))"
      ],
      "metadata": {
        "colab": {
          "base_uri": "https://localhost:8080/"
        },
        "id": "wwNii6JsVtHl",
        "outputId": "13c45f5a-d4cc-4fa2-b4fd-dc46bbe2b112"
      },
      "id": "wwNii6JsVtHl",
      "execution_count": null,
      "outputs": [
        {
          "output_type": "stream",
          "name": "stdout",
          "text": [
            "180 180 180\n"
          ]
        }
      ]
    },
    {
      "cell_type": "code",
      "source": [],
      "metadata": {
        "colab": {
          "base_uri": "https://localhost:8080/"
        },
        "id": "0VvKWkgpdEMP",
        "outputId": "67c303b2-8988-4201-cbbb-df7937cae1a7"
      },
      "id": "0VvKWkgpdEMP",
      "execution_count": null,
      "outputs": [
        {
          "output_type": "execute_result",
          "data": {
            "text/plain": [
              "59"
            ]
          },
          "metadata": {},
          "execution_count": 82
        }
      ]
    },
    {
      "cell_type": "code",
      "source": [
        "column_series = df['column2']\n",
        "column_series.to_csv('tweets.txt', index=False, sep='\\n')"
      ],
      "metadata": {
        "id": "2u4r1Sgn5HbT"
      },
      "id": "2u4r1Sgn5HbT",
      "execution_count": null,
      "outputs": []
    },
    {
      "cell_type": "code",
      "source": [
        "column_series = df['column1']\n",
        "column_series.to_csv('categories.txt', index=False, sep='\\n')"
      ],
      "metadata": {
        "id": "wB1kLms2dgNa"
      },
      "id": "wB1kLms2dgNa",
      "execution_count": null,
      "outputs": []
    },
    {
      "cell_type": "code",
      "source": [
        "df.to_excel('output.xlsx', index=False)"
      ],
      "metadata": {
        "id": "rlS1M_P56pUK"
      },
      "id": "rlS1M_P56pUK",
      "execution_count": null,
      "outputs": []
    },
    {
      "cell_type": "code",
      "source": [
        "df = pd.read_excel('/content/output.xlsx')\n",
        "ids = df['column2'].tolist()\n",
        "len(ids)"
      ],
      "metadata": {
        "colab": {
          "base_uri": "https://localhost:8080/"
        },
        "id": "WieIXUVnYxQw",
        "outputId": "fa24fcb8-a5f2-4878-9e74-239779475999"
      },
      "id": "WieIXUVnYxQw",
      "execution_count": null,
      "outputs": [
        {
          "output_type": "execute_result",
          "data": {
            "text/plain": [
              "59"
            ]
          },
          "metadata": {},
          "execution_count": 89
        }
      ]
    },
    {
      "cell_type": "markdown",
      "source": [
        "# Pipeline\n",
        "# Toxic Tweet Detection"
      ],
      "metadata": {
        "id": "iWNB7ANNVOgs"
      },
      "id": "iWNB7ANNVOgs"
    },
    {
      "cell_type": "code",
      "source": [
        "tweets_reps_categories = pd.read_excel('/content/category-tweets-replies.xlsx')"
      ],
      "metadata": {
        "id": "Z9SneYqgegyt"
      },
      "id": "Z9SneYqgegyt",
      "execution_count": null,
      "outputs": []
    },
    {
      "cell_type": "code",
      "source": [
        "tweets_reps_categories.loc[len(tweets_reps_categories)] = [\"\",\"a toxic tweet - i hate you so much go die\",\"\"]"
      ],
      "metadata": {
        "id": "az_8ngdHjBgg"
      },
      "id": "az_8ngdHjBgg",
      "execution_count": null,
      "outputs": []
    },
    {
      "cell_type": "code",
      "source": [
        "!pip install detoxify\n",
        "from detoxify import Detoxify"
      ],
      "metadata": {
        "id": "JikgChHKyZ9u"
      },
      "id": "JikgChHKyZ9u",
      "execution_count": null,
      "outputs": []
    },
    {
      "cell_type": "code",
      "source": [
        "toxic_tweets = []\n",
        "for index, tweet in tweets_reps_categories.iterrows():\n",
        "    preds = Detoxify('original').predict(tweet['tweet'])\n",
        "    sorted_dict = sorted(preds.items(), key=lambda x: x[1], reverse=True)\n",
        "    highest_two = sorted_dict[:2]\n",
        "    toxicity = highest_two[0][1] + highest_two[1][1]\n",
        "    if toxicity>=0.8:\n",
        "      toxic_tweets.append(tweet['tweet'])\n",
        "      tweets_reps_categories.drop(index, inplace=True)"
      ],
      "metadata": {
        "id": "lENgkPPCfXFy"
      },
      "id": "lENgkPPCfXFy",
      "execution_count": null,
      "outputs": []
    },
    {
      "cell_type": "code",
      "source": [
        "from pyspark import SparkContext, SparkConf\n",
        "from detoxify import Detoxify\n",
        "import csv\n",
        "\n",
        "conf = SparkConf().setAppName(\"SentimentAnalysis\")\n",
        "sc = SparkContext.getOrCreate(conf)\n",
        "\n",
        "# Initialize Detoxify model\n",
        "model = Detoxify('original')\n",
        "\n",
        "# Define the function to apply to each tweet\n",
        "def tell_sentiment(tweet):\n",
        "    preds = model.predict(tweet)\n",
        "    return sorted(preds.items(), key=lambda x: x[1], reverse=True)\n",
        "\n",
        "tweets = tweets_reps_categories['tweet']\n",
        "tweets_rdd = sc.parallelize(tweets)\n",
        "# tweets_rdd = sc.textFile(\"/content/followings.csv\").map(lambda line: line.split(\"\\t\"))\n",
        "# bios_rdd = tweets_rdd.map(lambda fields: fields[5])\n",
        "\n",
        "sentiments_rdd = tweets_rdd.map(tell_sentiment)\n",
        "\n",
        "# Collect the results to the driver program and print them\n",
        "sentiment_returns = sentiments_rdd.collect()\n",
        "\n",
        "# Stop the Spark context\n",
        "sc.stop()"
      ],
      "metadata": {
        "id": "Q4j2AA8f6GwU"
      },
      "id": "Q4j2AA8f6GwU",
      "execution_count": null,
      "outputs": []
    },
    {
      "cell_type": "code",
      "source": [
        "toxic_tweets = []\n",
        "i = 0\n",
        "for index, tweet in tweets_reps_categories.iterrows():\n",
        "    highest_two = sentiment_returns[i][:2]\n",
        "    i+=1\n",
        "    toxicity = highest_two[0][1] + highest_two[1][1]\n",
        "    if toxicity>=0.8:\n",
        "      toxic_tweets.append(tweet['tweet'])\n",
        "      tweets_reps_categories.drop(index, inplace=True)"
      ],
      "metadata": {
        "id": "xr-n1MJqnbem"
      },
      "id": "xr-n1MJqnbem",
      "execution_count": null,
      "outputs": []
    },
    {
      "cell_type": "code",
      "source": [
        "def tell_sentiment(tweet):\n",
        "  preds = Detoxify('original').predict(tweet)\n",
        "  return sorted(preds.items(), key=lambda x: x[1], reverse=True)"
      ],
      "metadata": {
        "id": "9vx1sa2C6uYj"
      },
      "id": "9vx1sa2C6uYj",
      "execution_count": null,
      "outputs": []
    },
    {
      "cell_type": "code",
      "source": [
        "toxic_tweet = \"a toxic tweet - i hate you so much go die\"\n",
        "ret = tell_sentiment(toxic_tweet)"
      ],
      "metadata": {
        "id": "KQ6UQFvT688g"
      },
      "id": "KQ6UQFvT688g",
      "execution_count": null,
      "outputs": []
    },
    {
      "cell_type": "markdown",
      "source": [
        "# Pipeline\n",
        "#Replies Analysis\n"
      ],
      "metadata": {
        "id": "OYFneSZ-RHhl"
      },
      "id": "OYFneSZ-RHhl"
    },
    {
      "cell_type": "code",
      "source": [
        "# Analyze the sentiment of a sentence\n",
        "#!pip install nltk\n",
        "import pandas as pd\n",
        "import numpy as np\n",
        "#from transformers import AutoTokenizer, AutoModelForSequenceClassification, Trainer\n",
        "import nltk\n",
        "nltk.download('vader_lexicon')\n",
        "from nltk.sentiment.vader import SentimentIntensityAnalyzer"
      ],
      "metadata": {
        "colab": {
          "base_uri": "https://localhost:8080/"
        },
        "id": "AwekA5pnozh7",
        "outputId": "e37382ce-109a-4e6c-b795-817286caa89f"
      },
      "id": "AwekA5pnozh7",
      "execution_count": null,
      "outputs": [
        {
          "output_type": "stream",
          "name": "stderr",
          "text": [
            "[nltk_data] Downloading package vader_lexicon to /root/nltk_data...\n"
          ]
        }
      ]
    },
    {
      "cell_type": "code",
      "source": [
        "analyzer = SentimentIntensityAnalyzer()\n",
        "sentence = \"I went to swimming yesterday and it was amazing! it was a good exercise. Good for health\"\n",
        "scores = analyzer.polarity_scores(sentence)\n",
        "\n",
        "# Print the sentiment scores\n",
        "print(scores)"
      ],
      "metadata": {
        "colab": {
          "base_uri": "https://localhost:8080/"
        },
        "id": "WDjfbaSIo3XW",
        "outputId": "e04e4c10-1140-4503-f755-c0f03454c703"
      },
      "id": "WDjfbaSIo3XW",
      "execution_count": null,
      "outputs": [
        {
          "output_type": "stream",
          "name": "stdout",
          "text": [
            "{'neg': 0.0, 'neu': 0.548, 'pos': 0.452, 'compound': 0.8718}\n"
          ]
        }
      ]
    },
    {
      "cell_type": "code",
      "source": [
        "for index, tweet in tweets_reps_categories.iterrows():\n",
        "  replies = tweet['column3']\n",
        "  neg = 0\n",
        "  pos = 0\n",
        "  for reply in replies:\n",
        "    scores = analyzer.polarity_scores(reply)\n",
        "    neg+=scores['neg']\n",
        "    pos+=scores['compound']\n",
        "  if pos<1.5*neg:\n",
        "    toxic_tweets.append(tweet['tweet'])\n",
        "    tweets_reps_categories.drop(index, inplace=True)"
      ],
      "metadata": {
        "id": "sLyx2X_GXNO_"
      },
      "id": "sLyx2X_GXNO_",
      "execution_count": null,
      "outputs": []
    },
    {
      "cell_type": "code",
      "source": [
        "tweets_reps_categories"
      ],
      "metadata": {
        "id": "X-OuyOGJrpvp"
      },
      "id": "X-OuyOGJrpvp",
      "execution_count": null,
      "outputs": []
    },
    {
      "cell_type": "markdown",
      "source": [
        "save in seperate files"
      ],
      "metadata": {
        "id": "Bf-35etCu4KV"
      },
      "id": "Bf-35etCu4KV"
    },
    {
      "cell_type": "code",
      "source": [
        "tweets_reps_categories.head(5)"
      ],
      "metadata": {
        "colab": {
          "base_uri": "https://localhost:8080/",
          "height": 206
        },
        "id": "YCI_HNTEwT7x",
        "outputId": "b4fa4419-9df9-4696-b97f-0ec7285007a0"
      },
      "id": "YCI_HNTEwT7x",
      "execution_count": null,
      "outputs": [
        {
          "output_type": "execute_result",
          "data": {
            "text/plain": [
              "             category                                              tweet  \\\n",
              "0               World  Thoughts on Para 28 (58:01-66:12):\\nWhile the ...   \n",
              "1  Science/Technology  At a massive EdTech conference &amp; the tone ...   \n",
              "2  Science/Technology  The #FABRICtestbed team understands that not e...   \n",
              "3  Science/Technology  RT @thebsdbox: Pretty tired, but also super pu...   \n",
              "4  Science/Technology  How much time does twitter blue take in review...   \n",
              "\n",
              "                                             column3  \n",
              "0  ['unroll', \"because it is named after a woman ...  \n",
              "1  ['I think the singularity happened when target...  \n",
              "2                                                 []  \n",
              "3                                                 []  \n",
              "4  ['Upto 7 days!', 'For me they took 7 working d...  "
            ],
            "text/html": [
              "\n",
              "  <div id=\"df-a831e0ab-5df0-47bb-b88f-27e3bd4bfe2e\">\n",
              "    <div class=\"colab-df-container\">\n",
              "      <div>\n",
              "<style scoped>\n",
              "    .dataframe tbody tr th:only-of-type {\n",
              "        vertical-align: middle;\n",
              "    }\n",
              "\n",
              "    .dataframe tbody tr th {\n",
              "        vertical-align: top;\n",
              "    }\n",
              "\n",
              "    .dataframe thead th {\n",
              "        text-align: right;\n",
              "    }\n",
              "</style>\n",
              "<table border=\"1\" class=\"dataframe\">\n",
              "  <thead>\n",
              "    <tr style=\"text-align: right;\">\n",
              "      <th></th>\n",
              "      <th>category</th>\n",
              "      <th>tweet</th>\n",
              "      <th>column3</th>\n",
              "    </tr>\n",
              "  </thead>\n",
              "  <tbody>\n",
              "    <tr>\n",
              "      <th>0</th>\n",
              "      <td>World</td>\n",
              "      <td>Thoughts on Para 28 (58:01-66:12):\\nWhile the ...</td>\n",
              "      <td>['unroll', \"because it is named after a woman ...</td>\n",
              "    </tr>\n",
              "    <tr>\n",
              "      <th>1</th>\n",
              "      <td>Science/Technology</td>\n",
              "      <td>At a massive EdTech conference &amp;amp; the tone ...</td>\n",
              "      <td>['I think the singularity happened when target...</td>\n",
              "    </tr>\n",
              "    <tr>\n",
              "      <th>2</th>\n",
              "      <td>Science/Technology</td>\n",
              "      <td>The #FABRICtestbed team understands that not e...</td>\n",
              "      <td>[]</td>\n",
              "    </tr>\n",
              "    <tr>\n",
              "      <th>3</th>\n",
              "      <td>Science/Technology</td>\n",
              "      <td>RT @thebsdbox: Pretty tired, but also super pu...</td>\n",
              "      <td>[]</td>\n",
              "    </tr>\n",
              "    <tr>\n",
              "      <th>4</th>\n",
              "      <td>Science/Technology</td>\n",
              "      <td>How much time does twitter blue take in review...</td>\n",
              "      <td>['Upto 7 days!', 'For me they took 7 working d...</td>\n",
              "    </tr>\n",
              "  </tbody>\n",
              "</table>\n",
              "</div>\n",
              "      <button class=\"colab-df-convert\" onclick=\"convertToInteractive('df-a831e0ab-5df0-47bb-b88f-27e3bd4bfe2e')\"\n",
              "              title=\"Convert this dataframe to an interactive table.\"\n",
              "              style=\"display:none;\">\n",
              "        \n",
              "  <svg xmlns=\"http://www.w3.org/2000/svg\" height=\"24px\"viewBox=\"0 0 24 24\"\n",
              "       width=\"24px\">\n",
              "    <path d=\"M0 0h24v24H0V0z\" fill=\"none\"/>\n",
              "    <path d=\"M18.56 5.44l.94 2.06.94-2.06 2.06-.94-2.06-.94-.94-2.06-.94 2.06-2.06.94zm-11 1L8.5 8.5l.94-2.06 2.06-.94-2.06-.94L8.5 2.5l-.94 2.06-2.06.94zm10 10l.94 2.06.94-2.06 2.06-.94-2.06-.94-.94-2.06-.94 2.06-2.06.94z\"/><path d=\"M17.41 7.96l-1.37-1.37c-.4-.4-.92-.59-1.43-.59-.52 0-1.04.2-1.43.59L10.3 9.45l-7.72 7.72c-.78.78-.78 2.05 0 2.83L4 21.41c.39.39.9.59 1.41.59.51 0 1.02-.2 1.41-.59l7.78-7.78 2.81-2.81c.8-.78.8-2.07 0-2.86zM5.41 20L4 18.59l7.72-7.72 1.47 1.35L5.41 20z\"/>\n",
              "  </svg>\n",
              "      </button>\n",
              "      \n",
              "  <style>\n",
              "    .colab-df-container {\n",
              "      display:flex;\n",
              "      flex-wrap:wrap;\n",
              "      gap: 12px;\n",
              "    }\n",
              "\n",
              "    .colab-df-convert {\n",
              "      background-color: #E8F0FE;\n",
              "      border: none;\n",
              "      border-radius: 50%;\n",
              "      cursor: pointer;\n",
              "      display: none;\n",
              "      fill: #1967D2;\n",
              "      height: 32px;\n",
              "      padding: 0 0 0 0;\n",
              "      width: 32px;\n",
              "    }\n",
              "\n",
              "    .colab-df-convert:hover {\n",
              "      background-color: #E2EBFA;\n",
              "      box-shadow: 0px 1px 2px rgba(60, 64, 67, 0.3), 0px 1px 3px 1px rgba(60, 64, 67, 0.15);\n",
              "      fill: #174EA6;\n",
              "    }\n",
              "\n",
              "    [theme=dark] .colab-df-convert {\n",
              "      background-color: #3B4455;\n",
              "      fill: #D2E3FC;\n",
              "    }\n",
              "\n",
              "    [theme=dark] .colab-df-convert:hover {\n",
              "      background-color: #434B5C;\n",
              "      box-shadow: 0px 1px 3px 1px rgba(0, 0, 0, 0.15);\n",
              "      filter: drop-shadow(0px 1px 2px rgba(0, 0, 0, 0.3));\n",
              "      fill: #FFFFFF;\n",
              "    }\n",
              "  </style>\n",
              "\n",
              "      <script>\n",
              "        const buttonEl =\n",
              "          document.querySelector('#df-a831e0ab-5df0-47bb-b88f-27e3bd4bfe2e button.colab-df-convert');\n",
              "        buttonEl.style.display =\n",
              "          google.colab.kernel.accessAllowed ? 'block' : 'none';\n",
              "\n",
              "        async function convertToInteractive(key) {\n",
              "          const element = document.querySelector('#df-a831e0ab-5df0-47bb-b88f-27e3bd4bfe2e');\n",
              "          const dataTable =\n",
              "            await google.colab.kernel.invokeFunction('convertToInteractive',\n",
              "                                                     [key], {});\n",
              "          if (!dataTable) return;\n",
              "\n",
              "          const docLinkHtml = 'Like what you see? Visit the ' +\n",
              "            '<a target=\"_blank\" href=https://colab.research.google.com/notebooks/data_table.ipynb>data table notebook</a>'\n",
              "            + ' to learn more about interactive tables.';\n",
              "          element.innerHTML = '';\n",
              "          dataTable['output_type'] = 'display_data';\n",
              "          await google.colab.output.renderOutput(dataTable, element);\n",
              "          const docLink = document.createElement('div');\n",
              "          docLink.innerHTML = docLinkHtml;\n",
              "          element.appendChild(docLink);\n",
              "        }\n",
              "      </script>\n",
              "    </div>\n",
              "  </div>\n",
              "  "
            ]
          },
          "metadata": {},
          "execution_count": 53
        }
      ]
    },
    {
      "cell_type": "code",
      "source": [
        "print(tweets_reps_categories['category'].unique())"
      ],
      "metadata": {
        "colab": {
          "base_uri": "https://localhost:8080/"
        },
        "id": "LsGGuMO8wjDN",
        "outputId": "74eeb777-c534-4c75-956f-c0182fdc100b"
      },
      "id": "LsGGuMO8wjDN",
      "execution_count": null,
      "outputs": [
        {
          "output_type": "stream",
          "name": "stdout",
          "text": [
            "['World' 'Science/Technology' 'Science/World' 'Sports' 'Business'\n",
            " 'Buisness']\n"
          ]
        }
      ]
    },
    {
      "cell_type": "code",
      "source": [
        "#['World', 'Sports', 'Business', 'Science/Technology']\n",
        "buisness = []\n",
        "science = []\n",
        "world = []\n",
        "sports = []\n",
        "\n",
        "for index, tweet in tweets_reps_categories.iterrows():\n",
        "  if tweet['category']==\"Business\":\n",
        "    buisness.append(tweet['tweet'])\n",
        "  elif tweet['category']==\"Sports\":\n",
        "    sports.append(tweet['tweet'])\n",
        "  elif tweet['category']==\"Science/Technology\":\n",
        "    science.append(tweet['tweet'])\n",
        "  elif tweet['category']==\"world\":\n",
        "    world.append(tweet['tweet'])\n",
        "\n"
      ],
      "metadata": {
        "id": "eYXich51u1uM"
      },
      "id": "eYXich51u1uM",
      "execution_count": null,
      "outputs": []
    },
    {
      "cell_type": "markdown",
      "source": [
        "# ChatGPT"
      ],
      "metadata": {
        "id": "vYc5LVana_gW"
      },
      "id": "vYc5LVana_gW"
    },
    {
      "cell_type": "code",
      "source": [
        "!pip install openai"
      ],
      "metadata": {
        "colab": {
          "base_uri": "https://localhost:8080/"
        },
        "id": "348E822cX9QI",
        "outputId": "26a4082a-2076-4ea2-a10d-833663b1dafb"
      },
      "id": "348E822cX9QI",
      "execution_count": null,
      "outputs": [
        {
          "output_type": "stream",
          "name": "stdout",
          "text": [
            "Looking in indexes: https://pypi.org/simple, https://us-python.pkg.dev/colab-wheels/public/simple/\n",
            "Collecting openai\n",
            "  Downloading openai-0.27.6-py3-none-any.whl (71 kB)\n",
            "\u001b[2K     \u001b[90m━━━━━━━━━━━━━━━━━━━━━━━━━━━━━━━━━━━━━━━━\u001b[0m \u001b[32m71.9/71.9 kB\u001b[0m \u001b[31m3.1 MB/s\u001b[0m eta \u001b[36m0:00:00\u001b[0m\n",
            "\u001b[?25hRequirement already satisfied: requests>=2.20 in /usr/local/lib/python3.10/dist-packages (from openai) (2.27.1)\n",
            "Requirement already satisfied: tqdm in /usr/local/lib/python3.10/dist-packages (from openai) (4.65.0)\n",
            "Collecting aiohttp (from openai)\n",
            "  Downloading aiohttp-3.8.4-cp310-cp310-manylinux_2_17_x86_64.manylinux2014_x86_64.whl (1.0 MB)\n",
            "\u001b[2K     \u001b[90m━━━━━━━━━━━━━━━━━━━━━━━━━━━━━━━━━━━━━━━━\u001b[0m \u001b[32m1.0/1.0 MB\u001b[0m \u001b[31m20.3 MB/s\u001b[0m eta \u001b[36m0:00:00\u001b[0m\n",
            "\u001b[?25hRequirement already satisfied: urllib3<1.27,>=1.21.1 in /usr/local/lib/python3.10/dist-packages (from requests>=2.20->openai) (1.26.15)\n",
            "Requirement already satisfied: certifi>=2017.4.17 in /usr/local/lib/python3.10/dist-packages (from requests>=2.20->openai) (2022.12.7)\n",
            "Requirement already satisfied: charset-normalizer~=2.0.0 in /usr/local/lib/python3.10/dist-packages (from requests>=2.20->openai) (2.0.12)\n",
            "Requirement already satisfied: idna<4,>=2.5 in /usr/local/lib/python3.10/dist-packages (from requests>=2.20->openai) (3.4)\n",
            "Requirement already satisfied: attrs>=17.3.0 in /usr/local/lib/python3.10/dist-packages (from aiohttp->openai) (23.1.0)\n",
            "Collecting multidict<7.0,>=4.5 (from aiohttp->openai)\n",
            "  Downloading multidict-6.0.4-cp310-cp310-manylinux_2_17_x86_64.manylinux2014_x86_64.whl (114 kB)\n",
            "\u001b[2K     \u001b[90m━━━━━━━━━━━━━━━━━━━━━━━━━━━━━━━━━━━━━━━\u001b[0m \u001b[32m114.5/114.5 kB\u001b[0m \u001b[31m8.5 MB/s\u001b[0m eta \u001b[36m0:00:00\u001b[0m\n",
            "\u001b[?25hCollecting async-timeout<5.0,>=4.0.0a3 (from aiohttp->openai)\n",
            "  Downloading async_timeout-4.0.2-py3-none-any.whl (5.8 kB)\n",
            "Collecting yarl<2.0,>=1.0 (from aiohttp->openai)\n",
            "  Downloading yarl-1.9.2-cp310-cp310-manylinux_2_17_x86_64.manylinux2014_x86_64.whl (268 kB)\n",
            "\u001b[2K     \u001b[90m━━━━━━━━━━━━━━━━━━━━━━━━━━━━━━━━━━━━━━\u001b[0m \u001b[32m268.8/268.8 kB\u001b[0m \u001b[31m25.1 MB/s\u001b[0m eta \u001b[36m0:00:00\u001b[0m\n",
            "\u001b[?25hCollecting frozenlist>=1.1.1 (from aiohttp->openai)\n",
            "  Downloading frozenlist-1.3.3-cp310-cp310-manylinux_2_5_x86_64.manylinux1_x86_64.manylinux_2_17_x86_64.manylinux2014_x86_64.whl (149 kB)\n",
            "\u001b[2K     \u001b[90m━━━━━━━━━━━━━━━━━━━━━━━━━━━━━━━━━━━━━━\u001b[0m \u001b[32m149.6/149.6 kB\u001b[0m \u001b[31m15.0 MB/s\u001b[0m eta \u001b[36m0:00:00\u001b[0m\n",
            "\u001b[?25hCollecting aiosignal>=1.1.2 (from aiohttp->openai)\n",
            "  Downloading aiosignal-1.3.1-py3-none-any.whl (7.6 kB)\n",
            "Installing collected packages: multidict, frozenlist, async-timeout, yarl, aiosignal, aiohttp, openai\n",
            "Successfully installed aiohttp-3.8.4 aiosignal-1.3.1 async-timeout-4.0.2 frozenlist-1.3.3 multidict-6.0.4 openai-0.27.6 yarl-1.9.2\n"
          ]
        }
      ]
    },
    {
      "cell_type": "code",
      "source": [
        "!touch \"/content/OpenAI.json\""
      ],
      "metadata": {
        "id": "_Po7o0reyytf"
      },
      "id": "_Po7o0reyytf",
      "execution_count": null,
      "outputs": []
    },
    {
      "cell_type": "code",
      "source": [],
      "metadata": {
        "id": "KF4p9h66yzg1"
      },
      "id": "KF4p9h66yzg1",
      "execution_count": null,
      "outputs": []
    },
    {
      "cell_type": "code",
      "source": [
        "import json\n",
        "\n",
        "OPENAI_API_KEY = ''\n",
        "with open('/content/OpenAI.json', 'r') as file_to_read:\n",
        "    json_data = json.load(file_to_read)\n",
        "    OPENAI_API_KEY = json_data[\"OPENAI_API_KEY\"]"
      ],
      "metadata": {
        "id": "lUK7CR9rbBj0"
      },
      "id": "lUK7CR9rbBj0",
      "execution_count": null,
      "outputs": []
    },
    {
      "cell_type": "code",
      "source": [
        "import os\n",
        "import openai\n",
        "\n",
        "openai.api_key =  OPENAI_API_KEY"
      ],
      "metadata": {
        "id": "mQP_vDfFbpB2"
      },
      "id": "mQP_vDfFbpB2",
      "execution_count": null,
      "outputs": []
    },
    {
      "cell_type": "code",
      "source": [
        "sports"
      ],
      "metadata": {
        "colab": {
          "base_uri": "https://localhost:8080/",
          "height": 71
        },
        "id": "mJfB5diCqb29",
        "outputId": "09c9c7ee-0747-4821-f248-7cf76493da7f"
      },
      "id": "mJfB5diCqb29",
      "execution_count": null,
      "outputs": [
        {
          "output_type": "execute_result",
          "data": {
            "text/plain": [
              "\"👈\\n\\n1. SF's Mayor London Breed introduces wide-spanning housing reforms\\n2. MartelMetellus offers a system for training efficiently in under 3 minutes\\n3. 1437_MT8 is the Season 3 champion\\n4. KuCoin is holding a quiz with the chance to win community bonuses\""
            ],
            "application/vnd.google.colaboratory.intrinsic+json": {
              "type": "string"
            }
          },
          "metadata": {},
          "execution_count": 31
        }
      ]
    },
    {
      "cell_type": "code",
      "source": [
        "buisness = []\n",
        "science = []\n",
        "world = []\n",
        "sports = []"
      ],
      "metadata": {
        "id": "kIB7s5UjonS0"
      },
      "id": "kIB7s5UjonS0",
      "execution_count": null,
      "outputs": []
    },
    {
      "cell_type": "code",
      "source": [
        "prompt = \"Please summarize the following lines :\\n\" + \"\\n\".join(science)\n",
        "response = openai.Completion.create(\n",
        "      engine=\"text-davinci-002\",\n",
        "      prompt=prompt,\n",
        "      max_tokens=100,\n",
        "      n=1,\n",
        "      stop=None,\n",
        "      temperature=0.5,\n",
        "  )\n",
        "\n",
        "science = response.choices[0].text.strip()\n",
        "print(science)"
      ],
      "metadata": {
        "id": "JGMF2GXqbp8B"
      },
      "id": "JGMF2GXqbp8B",
      "execution_count": null,
      "outputs": []
    },
    {
      "cell_type": "code",
      "source": [
        "world = [\"The Para 28 of Surah 'Maryam' contains two Surah titles referring to women, PTI has issued tickets for all 297 seats of the Punjab Assembly\",\n",
        "\"A blog post suggests top places to explore in Naran Kaghan Valley in 2023\",\n",
        "\"A tweet encourages people to not be afraid to change for the better and not mock others who are trying to do the same.\",\n",
        "\"A thread talks about the evolution of music listening devices over the years.\",\n",
        "\"A tweet mentions the arrest of PTI Instagram Lead Atta Ur Rehman.\",\n",
        "\"Easypaisa has faced losses for the fifth consecutive year, despite having a massive footprint in digital payments.\",\n",
        "\"There are various retweets of other people's tweets that contain a mix of news, politics, and technology-related content.\"]"
      ],
      "metadata": {
        "id": "fJ3U6_oIqt8k"
      },
      "id": "fJ3U6_oIqt8k",
      "execution_count": null,
      "outputs": []
    },
    {
      "cell_type": "code",
      "source": [
        "science = [\"Education leaders at a conference discussed how AI has made the future of jobs and education unknowable\\n\",\n",
        "\"The #FABRICtestbed team is offering a KNIT 6 STREAMING PASS for specific events for those who can't attend in-person\\n\",\n",
        "\"There is an underrated comment about sqlite3_reset().\",\n",
        "\"The winning projects of Napptive's hackathon have been posted on their blog.\",\n",
        "\"Your iPhone and passcode can lock you out of your Apple account and content.\",\n",
        "\"There is a tutorial of 170+ slides on supercharging academic writing with AI-powered apps.\",\n",
        "\"TOI is generating stories with AI.\",\n",
        "\"Someone is now friends with @phindsearch and not @ChatGPT.\",\n",
        "\"There is a Hover Button tutorial using HTML and CSS.\"]"
      ],
      "metadata": {
        "id": "qpcZbK4Ir_ZL"
      },
      "id": "qpcZbK4Ir_ZL",
      "execution_count": null,
      "outputs": []
    },
    {
      "cell_type": "code",
      "source": [
        "final_prompts = {}\n",
        "final_prompts['buisness']=sum_buisness"
      ],
      "metadata": {
        "id": "euZ4fSz6ptih"
      },
      "id": "euZ4fSz6ptih",
      "execution_count": null,
      "outputs": []
    },
    {
      "cell_type": "code",
      "source": [
        "final_prompts['sports']=sum_sports"
      ],
      "metadata": {
        "id": "6OTTmcAtl5Vp"
      },
      "id": "6OTTmcAtl5Vp",
      "execution_count": null,
      "outputs": []
    },
    {
      "cell_type": "code",
      "source": [
        "final_prompts['world'] = world"
      ],
      "metadata": {
        "id": "QJZBBr-8rO2e"
      },
      "id": "QJZBBr-8rO2e",
      "execution_count": null,
      "outputs": []
    },
    {
      "cell_type": "code",
      "source": [
        "final_prompts['science'] = science"
      ],
      "metadata": {
        "id": "tb43JoSSrUbS"
      },
      "id": "tb43JoSSrUbS",
      "execution_count": null,
      "outputs": []
    },
    {
      "cell_type": "code",
      "source": [
        "json_str = json.dumps(final_prompts)\n",
        "\n",
        "# Write JSON string to a file\n",
        "with open('prompts.json', 'w') as f:\n",
        "    f.write(json_str)"
      ],
      "metadata": {
        "id": "o1erwf2SsZUl"
      },
      "id": "o1erwf2SsZUl",
      "execution_count": null,
      "outputs": []
    },
    {
      "cell_type": "code",
      "source": [
        "import json\n",
        "\n",
        "# define a dictionary\n",
        "\n",
        "# open a file in write mode\n",
        "with open(\"prompts.json\", \"w\") as file:\n",
        "    # write the dictionary to the file in JSON format\n",
        "    json.dump(final_prompts, file)"
      ],
      "metadata": {
        "id": "baCzkskdszlZ"
      },
      "id": "baCzkskdszlZ",
      "execution_count": null,
      "outputs": []
    },
    {
      "cell_type": "code",
      "source": [
        "def summarize_tweets(tweets):\n",
        "    # Join the tweets into a single string\n",
        "    text = \" \".join(tweets)\n",
        "\n",
        "    # Use the OpenAI API to summarize the text\n",
        "    response = openai.Completion.create(\n",
        "        engine=\"text-davinci-002\",\n",
        "        prompt=f\"Please summarize the following tweets:\\n\\n{text}\",\n",
        "        max_tokens=512,\n",
        "        n=1,\n",
        "        stop=None,\n",
        "        temperature=0.5,\n",
        "    )\n",
        "    summary = response.choices[0].text.strip()\n",
        "\n",
        "    # Split the summary into bullet points\n",
        "    points = []\n",
        "    for sentence in summary.split(\". \"):\n",
        "        if sentence not in points:\n",
        "            points.append(sentence)\n",
        "\n",
        "    # Print the bullet points\n",
        "    print(\"Main points:\")\n",
        "    for point in points:\n",
        "        print(\"- \" + point)\n",
        "\n",
        "# Example tweets to summarize\n",
        "tweets = [\n",
        "    \"Thoughts on Para 28 (58:01-66:12): While the Surah, 'Maryam' (Mary), is the only Surah with a female name, two Surah titles in this Para refer to women too:\",\n",
        "    \"At a massive EdTech conference &amp; the tone among many education leaders is that The Singularity happened (without the need for super intelligence)  AI has made the future unknowable: what jobs will we train folks for? How will education work? We will figure it out, but for now 🤷‍♂️\",\n",
        "]\n",
        "\n",
        "# Summarize the tweets\n",
        "summarize_tweets(tweets)"
      ],
      "metadata": {
        "colab": {
          "base_uri": "https://localhost:8080/"
        },
        "id": "xjnhg6UUbqCj",
        "outputId": "1be0bad6-1b6d-432c-a016-98665011329f"
      },
      "id": "xjnhg6UUbqCj",
      "execution_count": null,
      "outputs": [
        {
          "output_type": "stream",
          "name": "stdout",
          "text": [
            "Main points:\n",
            "- 1) At a massive EdTech conference, the tone among many education leaders is that The Singularity happened (without the need for super intelligence)\n",
            "2) AI has made the future unknowable: what jobs will we train folks for? How will education work?\n",
            "3) We will figure it out, but for now, people are unsure about what the future holds.\n"
          ]
        }
      ]
    },
    {
      "cell_type": "markdown",
      "source": [
        "# Anvil WebAPP"
      ],
      "metadata": {
        "id": "lk3eg4MoipZK"
      },
      "id": "lk3eg4MoipZK"
    },
    {
      "cell_type": "code",
      "source": [
        "!pip install anvil-uplink\n",
        "import anvil.server\n",
        "\n",
        "anvil.server.connect(\"server_####\")"
      ],
      "metadata": {
        "id": "aqCgGMYVbqQ0",
        "colab": {
          "base_uri": "https://localhost:8080/",
          "height": 517
        },
        "outputId": "34d0e6d8-553e-4875-da8d-eb24d3a459e9"
      },
      "id": "aqCgGMYVbqQ0",
      "execution_count": null,
      "outputs": [
        {
          "output_type": "stream",
          "name": "stdout",
          "text": [
            "Looking in indexes: https://pypi.org/simple, https://us-python.pkg.dev/colab-wheels/public/simple/\n",
            "Collecting anvil-uplink\n",
            "  Downloading anvil_uplink-0.4.2-py2.py3-none-any.whl (90 kB)\n",
            "\u001b[2K     \u001b[90m━━━━━━━━━━━━━━━━━━━━━━━━━━━━━━━━━━━━━━━━\u001b[0m \u001b[32m90.1/90.1 kB\u001b[0m \u001b[31m3.9 MB/s\u001b[0m eta \u001b[36m0:00:00\u001b[0m\n",
            "\u001b[?25hCollecting argparse (from anvil-uplink)\n",
            "  Downloading argparse-1.4.0-py2.py3-none-any.whl (23 kB)\n",
            "Requirement already satisfied: future in /usr/local/lib/python3.10/dist-packages (from anvil-uplink) (0.18.3)\n",
            "Requirement already satisfied: six in /usr/local/lib/python3.10/dist-packages (from anvil-uplink) (1.16.0)\n",
            "Collecting ws4py (from anvil-uplink)\n",
            "  Downloading ws4py-0.5.1.tar.gz (51 kB)\n",
            "\u001b[2K     \u001b[90m━━━━━━━━━━━━━━━━━━━━━━━━━━━━━━━━━━━━━━━━\u001b[0m \u001b[32m51.4/51.4 kB\u001b[0m \u001b[31m6.4 MB/s\u001b[0m eta \u001b[36m0:00:00\u001b[0m\n",
            "\u001b[?25h  Preparing metadata (setup.py) ... \u001b[?25l\u001b[?25hdone\n",
            "Building wheels for collected packages: ws4py\n",
            "  Building wheel for ws4py (setup.py) ... \u001b[?25l\u001b[?25hdone\n",
            "  Created wheel for ws4py: filename=ws4py-0.5.1-py3-none-any.whl size=45228 sha256=b82587a93b19a2286430213fe9a94ffe9ddd306e076677ccf93ede2bbde9e18a\n",
            "  Stored in directory: /root/.cache/pip/wheels/2e/7c/ad/d9c746276bf024d44296340869fcb169f1e5d80fb147351a57\n",
            "Successfully built ws4py\n",
            "Installing collected packages: ws4py, argparse, anvil-uplink\n",
            "Successfully installed anvil-uplink-0.4.2 argparse-1.4.0 ws4py-0.5.1\n"
          ]
        },
        {
          "output_type": "display_data",
          "data": {
            "application/vnd.colab-display-data+json": {
              "pip_warning": {
                "packages": [
                  "argparse",
                  "google"
                ]
              }
            }
          },
          "metadata": {}
        },
        {
          "output_type": "stream",
          "name": "stdout",
          "text": [
            "Connecting to wss://anvil.works/uplink\n",
            "Anvil websocket open\n",
            "Connected to \"Default Environment\" as SERVER\n"
          ]
        }
      ]
    },
    {
      "cell_type": "code",
      "source": [
        "@anvil.server.callable\n",
        "def send_prompts():\n",
        "  return final_prompts"
      ],
      "metadata": {
        "id": "CAIZkpzdjv8l"
      },
      "id": "CAIZkpzdjv8l",
      "execution_count": null,
      "outputs": []
    },
    {
      "cell_type": "code",
      "source": [
        "final_prompts.keys()"
      ],
      "metadata": {
        "id": "RTFfyj4soCZ8",
        "colab": {
          "base_uri": "https://localhost:8080/"
        },
        "outputId": "4afb56df-d3f6-4cd4-e082-5d9c1d07ddba"
      },
      "id": "RTFfyj4soCZ8",
      "execution_count": null,
      "outputs": [
        {
          "output_type": "execute_result",
          "data": {
            "text/plain": [
              "dict_keys(['buisness', 'sports', 'world', 'science'])"
            ]
          },
          "metadata": {},
          "execution_count": 47
        }
      ]
    },
    {
      "cell_type": "code",
      "source": [
        "@anvil.server.callable\n",
        "def send_filtered_out_tweets():\n",
        "  return toxic_tweet[0]"
      ],
      "metadata": {
        "id": "PA0X12FFzLwf"
      },
      "id": "PA0X12FFzLwf",
      "execution_count": null,
      "outputs": []
    },
    {
      "cell_type": "code",
      "source": [
        "toxic_tweets[0]"
      ],
      "metadata": {
        "id": "91rqxyVVzzyk"
      },
      "id": "91rqxyVVzzyk",
      "execution_count": null,
      "outputs": []
    },
    {
      "cell_type": "code",
      "source": [],
      "metadata": {
        "id": "EHX0qDHeKVBJ"
      },
      "id": "EHX0qDHeKVBJ",
      "execution_count": null,
      "outputs": []
    }
  ],
  "metadata": {
    "kernelspec": {
      "display_name": "Python 3 (ipykernel)",
      "language": "python",
      "name": "python3"
    },
    "language_info": {
      "codemirror_mode": {
        "name": "ipython",
        "version": 3
      },
      "file_extension": ".py",
      "mimetype": "text/x-python",
      "name": "python",
      "nbconvert_exporter": "python",
      "pygments_lexer": "ipython3",
      "version": "3.9.13"
    },
    "colab": {
      "provenance": []
    },
    "widgets": {
      "application/vnd.jupyter.widget-state+json": {
        "d338360cbf474c91a24fcf110b2b5cbb": {
          "model_module": "@jupyter-widgets/controls",
          "model_name": "HBoxModel",
          "model_module_version": "1.5.0",
          "state": {
            "_dom_classes": [],
            "_model_module": "@jupyter-widgets/controls",
            "_model_module_version": "1.5.0",
            "_model_name": "HBoxModel",
            "_view_count": null,
            "_view_module": "@jupyter-widgets/controls",
            "_view_module_version": "1.5.0",
            "_view_name": "HBoxView",
            "box_style": "",
            "children": [
              "IPY_MODEL_930f093d212c456982a68311fabbaede",
              "IPY_MODEL_42a0167447784e82a63f603f28bc53f7",
              "IPY_MODEL_77ee4424dbb04dfd80e4db58158bb57b"
            ],
            "layout": "IPY_MODEL_657d98c1e7a3474588b842561f728950"
          }
        },
        "930f093d212c456982a68311fabbaede": {
          "model_module": "@jupyter-widgets/controls",
          "model_name": "HTMLModel",
          "model_module_version": "1.5.0",
          "state": {
            "_dom_classes": [],
            "_model_module": "@jupyter-widgets/controls",
            "_model_module_version": "1.5.0",
            "_model_name": "HTMLModel",
            "_view_count": null,
            "_view_module": "@jupyter-widgets/controls",
            "_view_module_version": "1.5.0",
            "_view_name": "HTMLView",
            "description": "",
            "description_tooltip": null,
            "layout": "IPY_MODEL_bfd88a72b253408a8981dc4ea5917639",
            "placeholder": "​",
            "style": "IPY_MODEL_0132690f90934a0184d98ad07b6815a0",
            "value": "Downloading (…)okenizer_config.json: 100%"
          }
        },
        "42a0167447784e82a63f603f28bc53f7": {
          "model_module": "@jupyter-widgets/controls",
          "model_name": "FloatProgressModel",
          "model_module_version": "1.5.0",
          "state": {
            "_dom_classes": [],
            "_model_module": "@jupyter-widgets/controls",
            "_model_module_version": "1.5.0",
            "_model_name": "FloatProgressModel",
            "_view_count": null,
            "_view_module": "@jupyter-widgets/controls",
            "_view_module_version": "1.5.0",
            "_view_name": "ProgressView",
            "bar_style": "success",
            "description": "",
            "description_tooltip": null,
            "layout": "IPY_MODEL_0e466eabab52488a83fc1c831c048e01",
            "max": 48,
            "min": 0,
            "orientation": "horizontal",
            "style": "IPY_MODEL_3946035a93794571aec9849951c2d367",
            "value": 48
          }
        },
        "77ee4424dbb04dfd80e4db58158bb57b": {
          "model_module": "@jupyter-widgets/controls",
          "model_name": "HTMLModel",
          "model_module_version": "1.5.0",
          "state": {
            "_dom_classes": [],
            "_model_module": "@jupyter-widgets/controls",
            "_model_module_version": "1.5.0",
            "_model_name": "HTMLModel",
            "_view_count": null,
            "_view_module": "@jupyter-widgets/controls",
            "_view_module_version": "1.5.0",
            "_view_name": "HTMLView",
            "description": "",
            "description_tooltip": null,
            "layout": "IPY_MODEL_ef07a6be63b54e4598bd17eab0b7ea92",
            "placeholder": "​",
            "style": "IPY_MODEL_66342b9fe2904aeea5ebdde9fb32232b",
            "value": " 48.0/48.0 [00:00&lt;00:00, 775B/s]"
          }
        },
        "657d98c1e7a3474588b842561f728950": {
          "model_module": "@jupyter-widgets/base",
          "model_name": "LayoutModel",
          "model_module_version": "1.2.0",
          "state": {
            "_model_module": "@jupyter-widgets/base",
            "_model_module_version": "1.2.0",
            "_model_name": "LayoutModel",
            "_view_count": null,
            "_view_module": "@jupyter-widgets/base",
            "_view_module_version": "1.2.0",
            "_view_name": "LayoutView",
            "align_content": null,
            "align_items": null,
            "align_self": null,
            "border": null,
            "bottom": null,
            "display": null,
            "flex": null,
            "flex_flow": null,
            "grid_area": null,
            "grid_auto_columns": null,
            "grid_auto_flow": null,
            "grid_auto_rows": null,
            "grid_column": null,
            "grid_gap": null,
            "grid_row": null,
            "grid_template_areas": null,
            "grid_template_columns": null,
            "grid_template_rows": null,
            "height": null,
            "justify_content": null,
            "justify_items": null,
            "left": null,
            "margin": null,
            "max_height": null,
            "max_width": null,
            "min_height": null,
            "min_width": null,
            "object_fit": null,
            "object_position": null,
            "order": null,
            "overflow": null,
            "overflow_x": null,
            "overflow_y": null,
            "padding": null,
            "right": null,
            "top": null,
            "visibility": null,
            "width": null
          }
        },
        "bfd88a72b253408a8981dc4ea5917639": {
          "model_module": "@jupyter-widgets/base",
          "model_name": "LayoutModel",
          "model_module_version": "1.2.0",
          "state": {
            "_model_module": "@jupyter-widgets/base",
            "_model_module_version": "1.2.0",
            "_model_name": "LayoutModel",
            "_view_count": null,
            "_view_module": "@jupyter-widgets/base",
            "_view_module_version": "1.2.0",
            "_view_name": "LayoutView",
            "align_content": null,
            "align_items": null,
            "align_self": null,
            "border": null,
            "bottom": null,
            "display": null,
            "flex": null,
            "flex_flow": null,
            "grid_area": null,
            "grid_auto_columns": null,
            "grid_auto_flow": null,
            "grid_auto_rows": null,
            "grid_column": null,
            "grid_gap": null,
            "grid_row": null,
            "grid_template_areas": null,
            "grid_template_columns": null,
            "grid_template_rows": null,
            "height": null,
            "justify_content": null,
            "justify_items": null,
            "left": null,
            "margin": null,
            "max_height": null,
            "max_width": null,
            "min_height": null,
            "min_width": null,
            "object_fit": null,
            "object_position": null,
            "order": null,
            "overflow": null,
            "overflow_x": null,
            "overflow_y": null,
            "padding": null,
            "right": null,
            "top": null,
            "visibility": null,
            "width": null
          }
        },
        "0132690f90934a0184d98ad07b6815a0": {
          "model_module": "@jupyter-widgets/controls",
          "model_name": "DescriptionStyleModel",
          "model_module_version": "1.5.0",
          "state": {
            "_model_module": "@jupyter-widgets/controls",
            "_model_module_version": "1.5.0",
            "_model_name": "DescriptionStyleModel",
            "_view_count": null,
            "_view_module": "@jupyter-widgets/base",
            "_view_module_version": "1.2.0",
            "_view_name": "StyleView",
            "description_width": ""
          }
        },
        "0e466eabab52488a83fc1c831c048e01": {
          "model_module": "@jupyter-widgets/base",
          "model_name": "LayoutModel",
          "model_module_version": "1.2.0",
          "state": {
            "_model_module": "@jupyter-widgets/base",
            "_model_module_version": "1.2.0",
            "_model_name": "LayoutModel",
            "_view_count": null,
            "_view_module": "@jupyter-widgets/base",
            "_view_module_version": "1.2.0",
            "_view_name": "LayoutView",
            "align_content": null,
            "align_items": null,
            "align_self": null,
            "border": null,
            "bottom": null,
            "display": null,
            "flex": null,
            "flex_flow": null,
            "grid_area": null,
            "grid_auto_columns": null,
            "grid_auto_flow": null,
            "grid_auto_rows": null,
            "grid_column": null,
            "grid_gap": null,
            "grid_row": null,
            "grid_template_areas": null,
            "grid_template_columns": null,
            "grid_template_rows": null,
            "height": null,
            "justify_content": null,
            "justify_items": null,
            "left": null,
            "margin": null,
            "max_height": null,
            "max_width": null,
            "min_height": null,
            "min_width": null,
            "object_fit": null,
            "object_position": null,
            "order": null,
            "overflow": null,
            "overflow_x": null,
            "overflow_y": null,
            "padding": null,
            "right": null,
            "top": null,
            "visibility": null,
            "width": null
          }
        },
        "3946035a93794571aec9849951c2d367": {
          "model_module": "@jupyter-widgets/controls",
          "model_name": "ProgressStyleModel",
          "model_module_version": "1.5.0",
          "state": {
            "_model_module": "@jupyter-widgets/controls",
            "_model_module_version": "1.5.0",
            "_model_name": "ProgressStyleModel",
            "_view_count": null,
            "_view_module": "@jupyter-widgets/base",
            "_view_module_version": "1.2.0",
            "_view_name": "StyleView",
            "bar_color": null,
            "description_width": ""
          }
        },
        "ef07a6be63b54e4598bd17eab0b7ea92": {
          "model_module": "@jupyter-widgets/base",
          "model_name": "LayoutModel",
          "model_module_version": "1.2.0",
          "state": {
            "_model_module": "@jupyter-widgets/base",
            "_model_module_version": "1.2.0",
            "_model_name": "LayoutModel",
            "_view_count": null,
            "_view_module": "@jupyter-widgets/base",
            "_view_module_version": "1.2.0",
            "_view_name": "LayoutView",
            "align_content": null,
            "align_items": null,
            "align_self": null,
            "border": null,
            "bottom": null,
            "display": null,
            "flex": null,
            "flex_flow": null,
            "grid_area": null,
            "grid_auto_columns": null,
            "grid_auto_flow": null,
            "grid_auto_rows": null,
            "grid_column": null,
            "grid_gap": null,
            "grid_row": null,
            "grid_template_areas": null,
            "grid_template_columns": null,
            "grid_template_rows": null,
            "height": null,
            "justify_content": null,
            "justify_items": null,
            "left": null,
            "margin": null,
            "max_height": null,
            "max_width": null,
            "min_height": null,
            "min_width": null,
            "object_fit": null,
            "object_position": null,
            "order": null,
            "overflow": null,
            "overflow_x": null,
            "overflow_y": null,
            "padding": null,
            "right": null,
            "top": null,
            "visibility": null,
            "width": null
          }
        },
        "66342b9fe2904aeea5ebdde9fb32232b": {
          "model_module": "@jupyter-widgets/controls",
          "model_name": "DescriptionStyleModel",
          "model_module_version": "1.5.0",
          "state": {
            "_model_module": "@jupyter-widgets/controls",
            "_model_module_version": "1.5.0",
            "_model_name": "DescriptionStyleModel",
            "_view_count": null,
            "_view_module": "@jupyter-widgets/base",
            "_view_module_version": "1.2.0",
            "_view_name": "StyleView",
            "description_width": ""
          }
        },
        "cd6df829bb4a4f7ab6af629cbb7c8acf": {
          "model_module": "@jupyter-widgets/controls",
          "model_name": "HBoxModel",
          "model_module_version": "1.5.0",
          "state": {
            "_dom_classes": [],
            "_model_module": "@jupyter-widgets/controls",
            "_model_module_version": "1.5.0",
            "_model_name": "HBoxModel",
            "_view_count": null,
            "_view_module": "@jupyter-widgets/controls",
            "_view_module_version": "1.5.0",
            "_view_name": "HBoxView",
            "box_style": "",
            "children": [
              "IPY_MODEL_82ee075ed4b44e98a1138eb4b991412e",
              "IPY_MODEL_7fa4f069e9e14050b501097dbabf79b5",
              "IPY_MODEL_1344e6c1100a427aad296405a3e78173"
            ],
            "layout": "IPY_MODEL_0bf89b9df41c48d2b4c17a87ad574ebd"
          }
        },
        "82ee075ed4b44e98a1138eb4b991412e": {
          "model_module": "@jupyter-widgets/controls",
          "model_name": "HTMLModel",
          "model_module_version": "1.5.0",
          "state": {
            "_dom_classes": [],
            "_model_module": "@jupyter-widgets/controls",
            "_model_module_version": "1.5.0",
            "_model_name": "HTMLModel",
            "_view_count": null,
            "_view_module": "@jupyter-widgets/controls",
            "_view_module_version": "1.5.0",
            "_view_name": "HTMLView",
            "description": "",
            "description_tooltip": null,
            "layout": "IPY_MODEL_101a87533686488baf30f891f4eab125",
            "placeholder": "​",
            "style": "IPY_MODEL_7f28ad995ed84a17baf4938c9d2be95f",
            "value": "Downloading (…)lve/main/config.json: 100%"
          }
        },
        "7fa4f069e9e14050b501097dbabf79b5": {
          "model_module": "@jupyter-widgets/controls",
          "model_name": "FloatProgressModel",
          "model_module_version": "1.5.0",
          "state": {
            "_dom_classes": [],
            "_model_module": "@jupyter-widgets/controls",
            "_model_module_version": "1.5.0",
            "_model_name": "FloatProgressModel",
            "_view_count": null,
            "_view_module": "@jupyter-widgets/controls",
            "_view_module_version": "1.5.0",
            "_view_name": "ProgressView",
            "bar_style": "success",
            "description": "",
            "description_tooltip": null,
            "layout": "IPY_MODEL_0e79105f734844338b5955e62afc35a9",
            "max": 706,
            "min": 0,
            "orientation": "horizontal",
            "style": "IPY_MODEL_0b314deba0194554b06f67df7fcd519e",
            "value": 706
          }
        },
        "1344e6c1100a427aad296405a3e78173": {
          "model_module": "@jupyter-widgets/controls",
          "model_name": "HTMLModel",
          "model_module_version": "1.5.0",
          "state": {
            "_dom_classes": [],
            "_model_module": "@jupyter-widgets/controls",
            "_model_module_version": "1.5.0",
            "_model_name": "HTMLModel",
            "_view_count": null,
            "_view_module": "@jupyter-widgets/controls",
            "_view_module_version": "1.5.0",
            "_view_name": "HTMLView",
            "description": "",
            "description_tooltip": null,
            "layout": "IPY_MODEL_d9a7af348a6b45479bb9e5edeba1e65b",
            "placeholder": "​",
            "style": "IPY_MODEL_5a67b66b660d426fbca7adf612849275",
            "value": " 706/706 [00:00&lt;00:00, 20.0kB/s]"
          }
        },
        "0bf89b9df41c48d2b4c17a87ad574ebd": {
          "model_module": "@jupyter-widgets/base",
          "model_name": "LayoutModel",
          "model_module_version": "1.2.0",
          "state": {
            "_model_module": "@jupyter-widgets/base",
            "_model_module_version": "1.2.0",
            "_model_name": "LayoutModel",
            "_view_count": null,
            "_view_module": "@jupyter-widgets/base",
            "_view_module_version": "1.2.0",
            "_view_name": "LayoutView",
            "align_content": null,
            "align_items": null,
            "align_self": null,
            "border": null,
            "bottom": null,
            "display": null,
            "flex": null,
            "flex_flow": null,
            "grid_area": null,
            "grid_auto_columns": null,
            "grid_auto_flow": null,
            "grid_auto_rows": null,
            "grid_column": null,
            "grid_gap": null,
            "grid_row": null,
            "grid_template_areas": null,
            "grid_template_columns": null,
            "grid_template_rows": null,
            "height": null,
            "justify_content": null,
            "justify_items": null,
            "left": null,
            "margin": null,
            "max_height": null,
            "max_width": null,
            "min_height": null,
            "min_width": null,
            "object_fit": null,
            "object_position": null,
            "order": null,
            "overflow": null,
            "overflow_x": null,
            "overflow_y": null,
            "padding": null,
            "right": null,
            "top": null,
            "visibility": null,
            "width": null
          }
        },
        "101a87533686488baf30f891f4eab125": {
          "model_module": "@jupyter-widgets/base",
          "model_name": "LayoutModel",
          "model_module_version": "1.2.0",
          "state": {
            "_model_module": "@jupyter-widgets/base",
            "_model_module_version": "1.2.0",
            "_model_name": "LayoutModel",
            "_view_count": null,
            "_view_module": "@jupyter-widgets/base",
            "_view_module_version": "1.2.0",
            "_view_name": "LayoutView",
            "align_content": null,
            "align_items": null,
            "align_self": null,
            "border": null,
            "bottom": null,
            "display": null,
            "flex": null,
            "flex_flow": null,
            "grid_area": null,
            "grid_auto_columns": null,
            "grid_auto_flow": null,
            "grid_auto_rows": null,
            "grid_column": null,
            "grid_gap": null,
            "grid_row": null,
            "grid_template_areas": null,
            "grid_template_columns": null,
            "grid_template_rows": null,
            "height": null,
            "justify_content": null,
            "justify_items": null,
            "left": null,
            "margin": null,
            "max_height": null,
            "max_width": null,
            "min_height": null,
            "min_width": null,
            "object_fit": null,
            "object_position": null,
            "order": null,
            "overflow": null,
            "overflow_x": null,
            "overflow_y": null,
            "padding": null,
            "right": null,
            "top": null,
            "visibility": null,
            "width": null
          }
        },
        "7f28ad995ed84a17baf4938c9d2be95f": {
          "model_module": "@jupyter-widgets/controls",
          "model_name": "DescriptionStyleModel",
          "model_module_version": "1.5.0",
          "state": {
            "_model_module": "@jupyter-widgets/controls",
            "_model_module_version": "1.5.0",
            "_model_name": "DescriptionStyleModel",
            "_view_count": null,
            "_view_module": "@jupyter-widgets/base",
            "_view_module_version": "1.2.0",
            "_view_name": "StyleView",
            "description_width": ""
          }
        },
        "0e79105f734844338b5955e62afc35a9": {
          "model_module": "@jupyter-widgets/base",
          "model_name": "LayoutModel",
          "model_module_version": "1.2.0",
          "state": {
            "_model_module": "@jupyter-widgets/base",
            "_model_module_version": "1.2.0",
            "_model_name": "LayoutModel",
            "_view_count": null,
            "_view_module": "@jupyter-widgets/base",
            "_view_module_version": "1.2.0",
            "_view_name": "LayoutView",
            "align_content": null,
            "align_items": null,
            "align_self": null,
            "border": null,
            "bottom": null,
            "display": null,
            "flex": null,
            "flex_flow": null,
            "grid_area": null,
            "grid_auto_columns": null,
            "grid_auto_flow": null,
            "grid_auto_rows": null,
            "grid_column": null,
            "grid_gap": null,
            "grid_row": null,
            "grid_template_areas": null,
            "grid_template_columns": null,
            "grid_template_rows": null,
            "height": null,
            "justify_content": null,
            "justify_items": null,
            "left": null,
            "margin": null,
            "max_height": null,
            "max_width": null,
            "min_height": null,
            "min_width": null,
            "object_fit": null,
            "object_position": null,
            "order": null,
            "overflow": null,
            "overflow_x": null,
            "overflow_y": null,
            "padding": null,
            "right": null,
            "top": null,
            "visibility": null,
            "width": null
          }
        },
        "0b314deba0194554b06f67df7fcd519e": {
          "model_module": "@jupyter-widgets/controls",
          "model_name": "ProgressStyleModel",
          "model_module_version": "1.5.0",
          "state": {
            "_model_module": "@jupyter-widgets/controls",
            "_model_module_version": "1.5.0",
            "_model_name": "ProgressStyleModel",
            "_view_count": null,
            "_view_module": "@jupyter-widgets/base",
            "_view_module_version": "1.2.0",
            "_view_name": "StyleView",
            "bar_color": null,
            "description_width": ""
          }
        },
        "d9a7af348a6b45479bb9e5edeba1e65b": {
          "model_module": "@jupyter-widgets/base",
          "model_name": "LayoutModel",
          "model_module_version": "1.2.0",
          "state": {
            "_model_module": "@jupyter-widgets/base",
            "_model_module_version": "1.2.0",
            "_model_name": "LayoutModel",
            "_view_count": null,
            "_view_module": "@jupyter-widgets/base",
            "_view_module_version": "1.2.0",
            "_view_name": "LayoutView",
            "align_content": null,
            "align_items": null,
            "align_self": null,
            "border": null,
            "bottom": null,
            "display": null,
            "flex": null,
            "flex_flow": null,
            "grid_area": null,
            "grid_auto_columns": null,
            "grid_auto_flow": null,
            "grid_auto_rows": null,
            "grid_column": null,
            "grid_gap": null,
            "grid_row": null,
            "grid_template_areas": null,
            "grid_template_columns": null,
            "grid_template_rows": null,
            "height": null,
            "justify_content": null,
            "justify_items": null,
            "left": null,
            "margin": null,
            "max_height": null,
            "max_width": null,
            "min_height": null,
            "min_width": null,
            "object_fit": null,
            "object_position": null,
            "order": null,
            "overflow": null,
            "overflow_x": null,
            "overflow_y": null,
            "padding": null,
            "right": null,
            "top": null,
            "visibility": null,
            "width": null
          }
        },
        "5a67b66b660d426fbca7adf612849275": {
          "model_module": "@jupyter-widgets/controls",
          "model_name": "DescriptionStyleModel",
          "model_module_version": "1.5.0",
          "state": {
            "_model_module": "@jupyter-widgets/controls",
            "_model_module_version": "1.5.0",
            "_model_name": "DescriptionStyleModel",
            "_view_count": null,
            "_view_module": "@jupyter-widgets/base",
            "_view_module_version": "1.2.0",
            "_view_name": "StyleView",
            "description_width": ""
          }
        },
        "96a76a00efcf4af7bab0046e6ee11b71": {
          "model_module": "@jupyter-widgets/controls",
          "model_name": "HBoxModel",
          "model_module_version": "1.5.0",
          "state": {
            "_dom_classes": [],
            "_model_module": "@jupyter-widgets/controls",
            "_model_module_version": "1.5.0",
            "_model_name": "HBoxModel",
            "_view_count": null,
            "_view_module": "@jupyter-widgets/controls",
            "_view_module_version": "1.5.0",
            "_view_name": "HBoxView",
            "box_style": "",
            "children": [
              "IPY_MODEL_9294a076ab724f91b8328b49c88dae4a",
              "IPY_MODEL_55f9a9ff1334412d945a578c14c0ad31",
              "IPY_MODEL_d7a7266646194806b611e4410ff5179f"
            ],
            "layout": "IPY_MODEL_233dca93b0814d968e7319eda9e22535"
          }
        },
        "9294a076ab724f91b8328b49c88dae4a": {
          "model_module": "@jupyter-widgets/controls",
          "model_name": "HTMLModel",
          "model_module_version": "1.5.0",
          "state": {
            "_dom_classes": [],
            "_model_module": "@jupyter-widgets/controls",
            "_model_module_version": "1.5.0",
            "_model_name": "HTMLModel",
            "_view_count": null,
            "_view_module": "@jupyter-widgets/controls",
            "_view_module_version": "1.5.0",
            "_view_name": "HTMLView",
            "description": "",
            "description_tooltip": null,
            "layout": "IPY_MODEL_844834b780054d88bd6c6646a293a77f",
            "placeholder": "​",
            "style": "IPY_MODEL_9fabeb36b10c4f65b81fb21ee8171a09",
            "value": "Downloading (…)solve/main/vocab.txt: 100%"
          }
        },
        "55f9a9ff1334412d945a578c14c0ad31": {
          "model_module": "@jupyter-widgets/controls",
          "model_name": "FloatProgressModel",
          "model_module_version": "1.5.0",
          "state": {
            "_dom_classes": [],
            "_model_module": "@jupyter-widgets/controls",
            "_model_module_version": "1.5.0",
            "_model_name": "FloatProgressModel",
            "_view_count": null,
            "_view_module": "@jupyter-widgets/controls",
            "_view_module_version": "1.5.0",
            "_view_name": "ProgressView",
            "bar_style": "success",
            "description": "",
            "description_tooltip": null,
            "layout": "IPY_MODEL_6e373a5bd585415e827da585ba1a6965",
            "max": 231508,
            "min": 0,
            "orientation": "horizontal",
            "style": "IPY_MODEL_95aa56dce30f4dfe8a13c80c1e7323cc",
            "value": 231508
          }
        },
        "d7a7266646194806b611e4410ff5179f": {
          "model_module": "@jupyter-widgets/controls",
          "model_name": "HTMLModel",
          "model_module_version": "1.5.0",
          "state": {
            "_dom_classes": [],
            "_model_module": "@jupyter-widgets/controls",
            "_model_module_version": "1.5.0",
            "_model_name": "HTMLModel",
            "_view_count": null,
            "_view_module": "@jupyter-widgets/controls",
            "_view_module_version": "1.5.0",
            "_view_name": "HTMLView",
            "description": "",
            "description_tooltip": null,
            "layout": "IPY_MODEL_06d2737544304eda989bea25d73f63cf",
            "placeholder": "​",
            "style": "IPY_MODEL_e411b93828534d408d2b46c88c67e9f7",
            "value": " 232k/232k [00:00&lt;00:00, 4.17MB/s]"
          }
        },
        "233dca93b0814d968e7319eda9e22535": {
          "model_module": "@jupyter-widgets/base",
          "model_name": "LayoutModel",
          "model_module_version": "1.2.0",
          "state": {
            "_model_module": "@jupyter-widgets/base",
            "_model_module_version": "1.2.0",
            "_model_name": "LayoutModel",
            "_view_count": null,
            "_view_module": "@jupyter-widgets/base",
            "_view_module_version": "1.2.0",
            "_view_name": "LayoutView",
            "align_content": null,
            "align_items": null,
            "align_self": null,
            "border": null,
            "bottom": null,
            "display": null,
            "flex": null,
            "flex_flow": null,
            "grid_area": null,
            "grid_auto_columns": null,
            "grid_auto_flow": null,
            "grid_auto_rows": null,
            "grid_column": null,
            "grid_gap": null,
            "grid_row": null,
            "grid_template_areas": null,
            "grid_template_columns": null,
            "grid_template_rows": null,
            "height": null,
            "justify_content": null,
            "justify_items": null,
            "left": null,
            "margin": null,
            "max_height": null,
            "max_width": null,
            "min_height": null,
            "min_width": null,
            "object_fit": null,
            "object_position": null,
            "order": null,
            "overflow": null,
            "overflow_x": null,
            "overflow_y": null,
            "padding": null,
            "right": null,
            "top": null,
            "visibility": null,
            "width": null
          }
        },
        "844834b780054d88bd6c6646a293a77f": {
          "model_module": "@jupyter-widgets/base",
          "model_name": "LayoutModel",
          "model_module_version": "1.2.0",
          "state": {
            "_model_module": "@jupyter-widgets/base",
            "_model_module_version": "1.2.0",
            "_model_name": "LayoutModel",
            "_view_count": null,
            "_view_module": "@jupyter-widgets/base",
            "_view_module_version": "1.2.0",
            "_view_name": "LayoutView",
            "align_content": null,
            "align_items": null,
            "align_self": null,
            "border": null,
            "bottom": null,
            "display": null,
            "flex": null,
            "flex_flow": null,
            "grid_area": null,
            "grid_auto_columns": null,
            "grid_auto_flow": null,
            "grid_auto_rows": null,
            "grid_column": null,
            "grid_gap": null,
            "grid_row": null,
            "grid_template_areas": null,
            "grid_template_columns": null,
            "grid_template_rows": null,
            "height": null,
            "justify_content": null,
            "justify_items": null,
            "left": null,
            "margin": null,
            "max_height": null,
            "max_width": null,
            "min_height": null,
            "min_width": null,
            "object_fit": null,
            "object_position": null,
            "order": null,
            "overflow": null,
            "overflow_x": null,
            "overflow_y": null,
            "padding": null,
            "right": null,
            "top": null,
            "visibility": null,
            "width": null
          }
        },
        "9fabeb36b10c4f65b81fb21ee8171a09": {
          "model_module": "@jupyter-widgets/controls",
          "model_name": "DescriptionStyleModel",
          "model_module_version": "1.5.0",
          "state": {
            "_model_module": "@jupyter-widgets/controls",
            "_model_module_version": "1.5.0",
            "_model_name": "DescriptionStyleModel",
            "_view_count": null,
            "_view_module": "@jupyter-widgets/base",
            "_view_module_version": "1.2.0",
            "_view_name": "StyleView",
            "description_width": ""
          }
        },
        "6e373a5bd585415e827da585ba1a6965": {
          "model_module": "@jupyter-widgets/base",
          "model_name": "LayoutModel",
          "model_module_version": "1.2.0",
          "state": {
            "_model_module": "@jupyter-widgets/base",
            "_model_module_version": "1.2.0",
            "_model_name": "LayoutModel",
            "_view_count": null,
            "_view_module": "@jupyter-widgets/base",
            "_view_module_version": "1.2.0",
            "_view_name": "LayoutView",
            "align_content": null,
            "align_items": null,
            "align_self": null,
            "border": null,
            "bottom": null,
            "display": null,
            "flex": null,
            "flex_flow": null,
            "grid_area": null,
            "grid_auto_columns": null,
            "grid_auto_flow": null,
            "grid_auto_rows": null,
            "grid_column": null,
            "grid_gap": null,
            "grid_row": null,
            "grid_template_areas": null,
            "grid_template_columns": null,
            "grid_template_rows": null,
            "height": null,
            "justify_content": null,
            "justify_items": null,
            "left": null,
            "margin": null,
            "max_height": null,
            "max_width": null,
            "min_height": null,
            "min_width": null,
            "object_fit": null,
            "object_position": null,
            "order": null,
            "overflow": null,
            "overflow_x": null,
            "overflow_y": null,
            "padding": null,
            "right": null,
            "top": null,
            "visibility": null,
            "width": null
          }
        },
        "95aa56dce30f4dfe8a13c80c1e7323cc": {
          "model_module": "@jupyter-widgets/controls",
          "model_name": "ProgressStyleModel",
          "model_module_version": "1.5.0",
          "state": {
            "_model_module": "@jupyter-widgets/controls",
            "_model_module_version": "1.5.0",
            "_model_name": "ProgressStyleModel",
            "_view_count": null,
            "_view_module": "@jupyter-widgets/base",
            "_view_module_version": "1.2.0",
            "_view_name": "StyleView",
            "bar_color": null,
            "description_width": ""
          }
        },
        "06d2737544304eda989bea25d73f63cf": {
          "model_module": "@jupyter-widgets/base",
          "model_name": "LayoutModel",
          "model_module_version": "1.2.0",
          "state": {
            "_model_module": "@jupyter-widgets/base",
            "_model_module_version": "1.2.0",
            "_model_name": "LayoutModel",
            "_view_count": null,
            "_view_module": "@jupyter-widgets/base",
            "_view_module_version": "1.2.0",
            "_view_name": "LayoutView",
            "align_content": null,
            "align_items": null,
            "align_self": null,
            "border": null,
            "bottom": null,
            "display": null,
            "flex": null,
            "flex_flow": null,
            "grid_area": null,
            "grid_auto_columns": null,
            "grid_auto_flow": null,
            "grid_auto_rows": null,
            "grid_column": null,
            "grid_gap": null,
            "grid_row": null,
            "grid_template_areas": null,
            "grid_template_columns": null,
            "grid_template_rows": null,
            "height": null,
            "justify_content": null,
            "justify_items": null,
            "left": null,
            "margin": null,
            "max_height": null,
            "max_width": null,
            "min_height": null,
            "min_width": null,
            "object_fit": null,
            "object_position": null,
            "order": null,
            "overflow": null,
            "overflow_x": null,
            "overflow_y": null,
            "padding": null,
            "right": null,
            "top": null,
            "visibility": null,
            "width": null
          }
        },
        "e411b93828534d408d2b46c88c67e9f7": {
          "model_module": "@jupyter-widgets/controls",
          "model_name": "DescriptionStyleModel",
          "model_module_version": "1.5.0",
          "state": {
            "_model_module": "@jupyter-widgets/controls",
            "_model_module_version": "1.5.0",
            "_model_name": "DescriptionStyleModel",
            "_view_count": null,
            "_view_module": "@jupyter-widgets/base",
            "_view_module_version": "1.2.0",
            "_view_name": "StyleView",
            "description_width": ""
          }
        },
        "55e874830fb0418198650400e1854cc9": {
          "model_module": "@jupyter-widgets/controls",
          "model_name": "HBoxModel",
          "model_module_version": "1.5.0",
          "state": {
            "_dom_classes": [],
            "_model_module": "@jupyter-widgets/controls",
            "_model_module_version": "1.5.0",
            "_model_name": "HBoxModel",
            "_view_count": null,
            "_view_module": "@jupyter-widgets/controls",
            "_view_module_version": "1.5.0",
            "_view_name": "HBoxView",
            "box_style": "",
            "children": [
              "IPY_MODEL_1d95985071f94704876b7e44c759d9c7",
              "IPY_MODEL_d7cbc1bdca19459f832ec7b898f67ce7",
              "IPY_MODEL_bf3891e9298c4aa7914b38d27c1163ad"
            ],
            "layout": "IPY_MODEL_f9bff67690e0474988ebbedeaf91a164"
          }
        },
        "1d95985071f94704876b7e44c759d9c7": {
          "model_module": "@jupyter-widgets/controls",
          "model_name": "HTMLModel",
          "model_module_version": "1.5.0",
          "state": {
            "_dom_classes": [],
            "_model_module": "@jupyter-widgets/controls",
            "_model_module_version": "1.5.0",
            "_model_name": "HTMLModel",
            "_view_count": null,
            "_view_module": "@jupyter-widgets/controls",
            "_view_module_version": "1.5.0",
            "_view_name": "HTMLView",
            "description": "",
            "description_tooltip": null,
            "layout": "IPY_MODEL_17278a14318f4e35aaeb736ebcff52be",
            "placeholder": "​",
            "style": "IPY_MODEL_2020f8da566c4fb1a5ec47dbc5291d10",
            "value": "Downloading (…)cial_tokens_map.json: 100%"
          }
        },
        "d7cbc1bdca19459f832ec7b898f67ce7": {
          "model_module": "@jupyter-widgets/controls",
          "model_name": "FloatProgressModel",
          "model_module_version": "1.5.0",
          "state": {
            "_dom_classes": [],
            "_model_module": "@jupyter-widgets/controls",
            "_model_module_version": "1.5.0",
            "_model_name": "FloatProgressModel",
            "_view_count": null,
            "_view_module": "@jupyter-widgets/controls",
            "_view_module_version": "1.5.0",
            "_view_name": "ProgressView",
            "bar_style": "success",
            "description": "",
            "description_tooltip": null,
            "layout": "IPY_MODEL_56f46396334e4e1caf8fa315b37adc3f",
            "max": 112,
            "min": 0,
            "orientation": "horizontal",
            "style": "IPY_MODEL_1177e56f093d4e72a904e536a80578da",
            "value": 112
          }
        },
        "bf3891e9298c4aa7914b38d27c1163ad": {
          "model_module": "@jupyter-widgets/controls",
          "model_name": "HTMLModel",
          "model_module_version": "1.5.0",
          "state": {
            "_dom_classes": [],
            "_model_module": "@jupyter-widgets/controls",
            "_model_module_version": "1.5.0",
            "_model_name": "HTMLModel",
            "_view_count": null,
            "_view_module": "@jupyter-widgets/controls",
            "_view_module_version": "1.5.0",
            "_view_name": "HTMLView",
            "description": "",
            "description_tooltip": null,
            "layout": "IPY_MODEL_d5b1f800bddf46bfb94fdcdc63014034",
            "placeholder": "​",
            "style": "IPY_MODEL_a3b0646ac86345b6ab4dcfd125834e8c",
            "value": " 112/112 [00:00&lt;00:00, 2.48kB/s]"
          }
        },
        "f9bff67690e0474988ebbedeaf91a164": {
          "model_module": "@jupyter-widgets/base",
          "model_name": "LayoutModel",
          "model_module_version": "1.2.0",
          "state": {
            "_model_module": "@jupyter-widgets/base",
            "_model_module_version": "1.2.0",
            "_model_name": "LayoutModel",
            "_view_count": null,
            "_view_module": "@jupyter-widgets/base",
            "_view_module_version": "1.2.0",
            "_view_name": "LayoutView",
            "align_content": null,
            "align_items": null,
            "align_self": null,
            "border": null,
            "bottom": null,
            "display": null,
            "flex": null,
            "flex_flow": null,
            "grid_area": null,
            "grid_auto_columns": null,
            "grid_auto_flow": null,
            "grid_auto_rows": null,
            "grid_column": null,
            "grid_gap": null,
            "grid_row": null,
            "grid_template_areas": null,
            "grid_template_columns": null,
            "grid_template_rows": null,
            "height": null,
            "justify_content": null,
            "justify_items": null,
            "left": null,
            "margin": null,
            "max_height": null,
            "max_width": null,
            "min_height": null,
            "min_width": null,
            "object_fit": null,
            "object_position": null,
            "order": null,
            "overflow": null,
            "overflow_x": null,
            "overflow_y": null,
            "padding": null,
            "right": null,
            "top": null,
            "visibility": null,
            "width": null
          }
        },
        "17278a14318f4e35aaeb736ebcff52be": {
          "model_module": "@jupyter-widgets/base",
          "model_name": "LayoutModel",
          "model_module_version": "1.2.0",
          "state": {
            "_model_module": "@jupyter-widgets/base",
            "_model_module_version": "1.2.0",
            "_model_name": "LayoutModel",
            "_view_count": null,
            "_view_module": "@jupyter-widgets/base",
            "_view_module_version": "1.2.0",
            "_view_name": "LayoutView",
            "align_content": null,
            "align_items": null,
            "align_self": null,
            "border": null,
            "bottom": null,
            "display": null,
            "flex": null,
            "flex_flow": null,
            "grid_area": null,
            "grid_auto_columns": null,
            "grid_auto_flow": null,
            "grid_auto_rows": null,
            "grid_column": null,
            "grid_gap": null,
            "grid_row": null,
            "grid_template_areas": null,
            "grid_template_columns": null,
            "grid_template_rows": null,
            "height": null,
            "justify_content": null,
            "justify_items": null,
            "left": null,
            "margin": null,
            "max_height": null,
            "max_width": null,
            "min_height": null,
            "min_width": null,
            "object_fit": null,
            "object_position": null,
            "order": null,
            "overflow": null,
            "overflow_x": null,
            "overflow_y": null,
            "padding": null,
            "right": null,
            "top": null,
            "visibility": null,
            "width": null
          }
        },
        "2020f8da566c4fb1a5ec47dbc5291d10": {
          "model_module": "@jupyter-widgets/controls",
          "model_name": "DescriptionStyleModel",
          "model_module_version": "1.5.0",
          "state": {
            "_model_module": "@jupyter-widgets/controls",
            "_model_module_version": "1.5.0",
            "_model_name": "DescriptionStyleModel",
            "_view_count": null,
            "_view_module": "@jupyter-widgets/base",
            "_view_module_version": "1.2.0",
            "_view_name": "StyleView",
            "description_width": ""
          }
        },
        "56f46396334e4e1caf8fa315b37adc3f": {
          "model_module": "@jupyter-widgets/base",
          "model_name": "LayoutModel",
          "model_module_version": "1.2.0",
          "state": {
            "_model_module": "@jupyter-widgets/base",
            "_model_module_version": "1.2.0",
            "_model_name": "LayoutModel",
            "_view_count": null,
            "_view_module": "@jupyter-widgets/base",
            "_view_module_version": "1.2.0",
            "_view_name": "LayoutView",
            "align_content": null,
            "align_items": null,
            "align_self": null,
            "border": null,
            "bottom": null,
            "display": null,
            "flex": null,
            "flex_flow": null,
            "grid_area": null,
            "grid_auto_columns": null,
            "grid_auto_flow": null,
            "grid_auto_rows": null,
            "grid_column": null,
            "grid_gap": null,
            "grid_row": null,
            "grid_template_areas": null,
            "grid_template_columns": null,
            "grid_template_rows": null,
            "height": null,
            "justify_content": null,
            "justify_items": null,
            "left": null,
            "margin": null,
            "max_height": null,
            "max_width": null,
            "min_height": null,
            "min_width": null,
            "object_fit": null,
            "object_position": null,
            "order": null,
            "overflow": null,
            "overflow_x": null,
            "overflow_y": null,
            "padding": null,
            "right": null,
            "top": null,
            "visibility": null,
            "width": null
          }
        },
        "1177e56f093d4e72a904e536a80578da": {
          "model_module": "@jupyter-widgets/controls",
          "model_name": "ProgressStyleModel",
          "model_module_version": "1.5.0",
          "state": {
            "_model_module": "@jupyter-widgets/controls",
            "_model_module_version": "1.5.0",
            "_model_name": "ProgressStyleModel",
            "_view_count": null,
            "_view_module": "@jupyter-widgets/base",
            "_view_module_version": "1.2.0",
            "_view_name": "StyleView",
            "bar_color": null,
            "description_width": ""
          }
        },
        "d5b1f800bddf46bfb94fdcdc63014034": {
          "model_module": "@jupyter-widgets/base",
          "model_name": "LayoutModel",
          "model_module_version": "1.2.0",
          "state": {
            "_model_module": "@jupyter-widgets/base",
            "_model_module_version": "1.2.0",
            "_model_name": "LayoutModel",
            "_view_count": null,
            "_view_module": "@jupyter-widgets/base",
            "_view_module_version": "1.2.0",
            "_view_name": "LayoutView",
            "align_content": null,
            "align_items": null,
            "align_self": null,
            "border": null,
            "bottom": null,
            "display": null,
            "flex": null,
            "flex_flow": null,
            "grid_area": null,
            "grid_auto_columns": null,
            "grid_auto_flow": null,
            "grid_auto_rows": null,
            "grid_column": null,
            "grid_gap": null,
            "grid_row": null,
            "grid_template_areas": null,
            "grid_template_columns": null,
            "grid_template_rows": null,
            "height": null,
            "justify_content": null,
            "justify_items": null,
            "left": null,
            "margin": null,
            "max_height": null,
            "max_width": null,
            "min_height": null,
            "min_width": null,
            "object_fit": null,
            "object_position": null,
            "order": null,
            "overflow": null,
            "overflow_x": null,
            "overflow_y": null,
            "padding": null,
            "right": null,
            "top": null,
            "visibility": null,
            "width": null
          }
        },
        "a3b0646ac86345b6ab4dcfd125834e8c": {
          "model_module": "@jupyter-widgets/controls",
          "model_name": "DescriptionStyleModel",
          "model_module_version": "1.5.0",
          "state": {
            "_model_module": "@jupyter-widgets/controls",
            "_model_module_version": "1.5.0",
            "_model_name": "DescriptionStyleModel",
            "_view_count": null,
            "_view_module": "@jupyter-widgets/base",
            "_view_module_version": "1.2.0",
            "_view_name": "StyleView",
            "description_width": ""
          }
        },
        "123bf1ff086c4dcba59f81eb5f721294": {
          "model_module": "@jupyter-widgets/controls",
          "model_name": "HBoxModel",
          "model_module_version": "1.5.0",
          "state": {
            "_dom_classes": [],
            "_model_module": "@jupyter-widgets/controls",
            "_model_module_version": "1.5.0",
            "_model_name": "HBoxModel",
            "_view_count": null,
            "_view_module": "@jupyter-widgets/controls",
            "_view_module_version": "1.5.0",
            "_view_name": "HBoxView",
            "box_style": "",
            "children": [
              "IPY_MODEL_f43c3bad7d834b2085747bb7e9d68f23",
              "IPY_MODEL_08933328444d478f9d44f6114f9a67bc",
              "IPY_MODEL_1867fe691cbc43cfa0e856236abff207"
            ],
            "layout": "IPY_MODEL_899b6e3597dd461f86696267e43995ac"
          }
        },
        "f43c3bad7d834b2085747bb7e9d68f23": {
          "model_module": "@jupyter-widgets/controls",
          "model_name": "HTMLModel",
          "model_module_version": "1.5.0",
          "state": {
            "_dom_classes": [],
            "_model_module": "@jupyter-widgets/controls",
            "_model_module_version": "1.5.0",
            "_model_name": "HTMLModel",
            "_view_count": null,
            "_view_module": "@jupyter-widgets/controls",
            "_view_module_version": "1.5.0",
            "_view_name": "HTMLView",
            "description": "",
            "description_tooltip": null,
            "layout": "IPY_MODEL_891e00aa079e469bb062a513fc08554d",
            "placeholder": "​",
            "style": "IPY_MODEL_89aeaa4d6ed24fd0bfde11d15ecf136e",
            "value": "Downloading pytorch_model.bin: 100%"
          }
        },
        "08933328444d478f9d44f6114f9a67bc": {
          "model_module": "@jupyter-widgets/controls",
          "model_name": "FloatProgressModel",
          "model_module_version": "1.5.0",
          "state": {
            "_dom_classes": [],
            "_model_module": "@jupyter-widgets/controls",
            "_model_module_version": "1.5.0",
            "_model_name": "FloatProgressModel",
            "_view_count": null,
            "_view_module": "@jupyter-widgets/controls",
            "_view_module_version": "1.5.0",
            "_view_name": "ProgressView",
            "bar_style": "success",
            "description": "",
            "description_tooltip": null,
            "layout": "IPY_MODEL_64a50af09a2a487a9d47c8b61c3d141c",
            "max": 437991539,
            "min": 0,
            "orientation": "horizontal",
            "style": "IPY_MODEL_4612731108594424a6723dcfecbcecc6",
            "value": 437991539
          }
        },
        "1867fe691cbc43cfa0e856236abff207": {
          "model_module": "@jupyter-widgets/controls",
          "model_name": "HTMLModel",
          "model_module_version": "1.5.0",
          "state": {
            "_dom_classes": [],
            "_model_module": "@jupyter-widgets/controls",
            "_model_module_version": "1.5.0",
            "_model_name": "HTMLModel",
            "_view_count": null,
            "_view_module": "@jupyter-widgets/controls",
            "_view_module_version": "1.5.0",
            "_view_name": "HTMLView",
            "description": "",
            "description_tooltip": null,
            "layout": "IPY_MODEL_e2cf9e4dab674258a25043edb44ae3ee",
            "placeholder": "​",
            "style": "IPY_MODEL_d3f5b45690f84159a7357cd4023002b3",
            "value": " 438M/438M [00:28&lt;00:00, 16.2MB/s]"
          }
        },
        "899b6e3597dd461f86696267e43995ac": {
          "model_module": "@jupyter-widgets/base",
          "model_name": "LayoutModel",
          "model_module_version": "1.2.0",
          "state": {
            "_model_module": "@jupyter-widgets/base",
            "_model_module_version": "1.2.0",
            "_model_name": "LayoutModel",
            "_view_count": null,
            "_view_module": "@jupyter-widgets/base",
            "_view_module_version": "1.2.0",
            "_view_name": "LayoutView",
            "align_content": null,
            "align_items": null,
            "align_self": null,
            "border": null,
            "bottom": null,
            "display": null,
            "flex": null,
            "flex_flow": null,
            "grid_area": null,
            "grid_auto_columns": null,
            "grid_auto_flow": null,
            "grid_auto_rows": null,
            "grid_column": null,
            "grid_gap": null,
            "grid_row": null,
            "grid_template_areas": null,
            "grid_template_columns": null,
            "grid_template_rows": null,
            "height": null,
            "justify_content": null,
            "justify_items": null,
            "left": null,
            "margin": null,
            "max_height": null,
            "max_width": null,
            "min_height": null,
            "min_width": null,
            "object_fit": null,
            "object_position": null,
            "order": null,
            "overflow": null,
            "overflow_x": null,
            "overflow_y": null,
            "padding": null,
            "right": null,
            "top": null,
            "visibility": null,
            "width": null
          }
        },
        "891e00aa079e469bb062a513fc08554d": {
          "model_module": "@jupyter-widgets/base",
          "model_name": "LayoutModel",
          "model_module_version": "1.2.0",
          "state": {
            "_model_module": "@jupyter-widgets/base",
            "_model_module_version": "1.2.0",
            "_model_name": "LayoutModel",
            "_view_count": null,
            "_view_module": "@jupyter-widgets/base",
            "_view_module_version": "1.2.0",
            "_view_name": "LayoutView",
            "align_content": null,
            "align_items": null,
            "align_self": null,
            "border": null,
            "bottom": null,
            "display": null,
            "flex": null,
            "flex_flow": null,
            "grid_area": null,
            "grid_auto_columns": null,
            "grid_auto_flow": null,
            "grid_auto_rows": null,
            "grid_column": null,
            "grid_gap": null,
            "grid_row": null,
            "grid_template_areas": null,
            "grid_template_columns": null,
            "grid_template_rows": null,
            "height": null,
            "justify_content": null,
            "justify_items": null,
            "left": null,
            "margin": null,
            "max_height": null,
            "max_width": null,
            "min_height": null,
            "min_width": null,
            "object_fit": null,
            "object_position": null,
            "order": null,
            "overflow": null,
            "overflow_x": null,
            "overflow_y": null,
            "padding": null,
            "right": null,
            "top": null,
            "visibility": null,
            "width": null
          }
        },
        "89aeaa4d6ed24fd0bfde11d15ecf136e": {
          "model_module": "@jupyter-widgets/controls",
          "model_name": "DescriptionStyleModel",
          "model_module_version": "1.5.0",
          "state": {
            "_model_module": "@jupyter-widgets/controls",
            "_model_module_version": "1.5.0",
            "_model_name": "DescriptionStyleModel",
            "_view_count": null,
            "_view_module": "@jupyter-widgets/base",
            "_view_module_version": "1.2.0",
            "_view_name": "StyleView",
            "description_width": ""
          }
        },
        "64a50af09a2a487a9d47c8b61c3d141c": {
          "model_module": "@jupyter-widgets/base",
          "model_name": "LayoutModel",
          "model_module_version": "1.2.0",
          "state": {
            "_model_module": "@jupyter-widgets/base",
            "_model_module_version": "1.2.0",
            "_model_name": "LayoutModel",
            "_view_count": null,
            "_view_module": "@jupyter-widgets/base",
            "_view_module_version": "1.2.0",
            "_view_name": "LayoutView",
            "align_content": null,
            "align_items": null,
            "align_self": null,
            "border": null,
            "bottom": null,
            "display": null,
            "flex": null,
            "flex_flow": null,
            "grid_area": null,
            "grid_auto_columns": null,
            "grid_auto_flow": null,
            "grid_auto_rows": null,
            "grid_column": null,
            "grid_gap": null,
            "grid_row": null,
            "grid_template_areas": null,
            "grid_template_columns": null,
            "grid_template_rows": null,
            "height": null,
            "justify_content": null,
            "justify_items": null,
            "left": null,
            "margin": null,
            "max_height": null,
            "max_width": null,
            "min_height": null,
            "min_width": null,
            "object_fit": null,
            "object_position": null,
            "order": null,
            "overflow": null,
            "overflow_x": null,
            "overflow_y": null,
            "padding": null,
            "right": null,
            "top": null,
            "visibility": null,
            "width": null
          }
        },
        "4612731108594424a6723dcfecbcecc6": {
          "model_module": "@jupyter-widgets/controls",
          "model_name": "ProgressStyleModel",
          "model_module_version": "1.5.0",
          "state": {
            "_model_module": "@jupyter-widgets/controls",
            "_model_module_version": "1.5.0",
            "_model_name": "ProgressStyleModel",
            "_view_count": null,
            "_view_module": "@jupyter-widgets/base",
            "_view_module_version": "1.2.0",
            "_view_name": "StyleView",
            "bar_color": null,
            "description_width": ""
          }
        },
        "e2cf9e4dab674258a25043edb44ae3ee": {
          "model_module": "@jupyter-widgets/base",
          "model_name": "LayoutModel",
          "model_module_version": "1.2.0",
          "state": {
            "_model_module": "@jupyter-widgets/base",
            "_model_module_version": "1.2.0",
            "_model_name": "LayoutModel",
            "_view_count": null,
            "_view_module": "@jupyter-widgets/base",
            "_view_module_version": "1.2.0",
            "_view_name": "LayoutView",
            "align_content": null,
            "align_items": null,
            "align_self": null,
            "border": null,
            "bottom": null,
            "display": null,
            "flex": null,
            "flex_flow": null,
            "grid_area": null,
            "grid_auto_columns": null,
            "grid_auto_flow": null,
            "grid_auto_rows": null,
            "grid_column": null,
            "grid_gap": null,
            "grid_row": null,
            "grid_template_areas": null,
            "grid_template_columns": null,
            "grid_template_rows": null,
            "height": null,
            "justify_content": null,
            "justify_items": null,
            "left": null,
            "margin": null,
            "max_height": null,
            "max_width": null,
            "min_height": null,
            "min_width": null,
            "object_fit": null,
            "object_position": null,
            "order": null,
            "overflow": null,
            "overflow_x": null,
            "overflow_y": null,
            "padding": null,
            "right": null,
            "top": null,
            "visibility": null,
            "width": null
          }
        },
        "d3f5b45690f84159a7357cd4023002b3": {
          "model_module": "@jupyter-widgets/controls",
          "model_name": "DescriptionStyleModel",
          "model_module_version": "1.5.0",
          "state": {
            "_model_module": "@jupyter-widgets/controls",
            "_model_module_version": "1.5.0",
            "_model_name": "DescriptionStyleModel",
            "_view_count": null,
            "_view_module": "@jupyter-widgets/base",
            "_view_module_version": "1.2.0",
            "_view_name": "StyleView",
            "description_width": ""
          }
        }
      }
    }
  },
  "nbformat": 4,
  "nbformat_minor": 5
}